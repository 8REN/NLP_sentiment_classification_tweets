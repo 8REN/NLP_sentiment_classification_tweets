{
 "cells": [
  {
   "cell_type": "markdown",
   "metadata": {
    "toc": true
   },
   "source": [
    "<h1>Table of Contents<span class=\"tocSkip\"></span></h1>\n",
    "<div class=\"toc\"><ul class=\"toc-item\"><li><span><a href=\"#model\" data-toc-modified-id=\"model-1\"><span class=\"toc-item-num\">1&nbsp;&nbsp;</span>model</a></span><ul class=\"toc-item\"><li><span><a href=\"#functions\" data-toc-modified-id=\"functions-1.1\"><span class=\"toc-item-num\">1.1&nbsp;&nbsp;</span>functions</a></span></li></ul></li><li><span><a href=\"#import-data\" data-toc-modified-id=\"import-data-2\"><span class=\"toc-item-num\">2&nbsp;&nbsp;</span>import data</a></span><ul class=\"toc-item\"><li><span><a href=\"#PCA-data-visualization\" data-toc-modified-id=\"PCA-data-visualization-2.1\"><span class=\"toc-item-num\">2.1&nbsp;&nbsp;</span>PCA data visualization</a></span></li><li><span><a href=\"#transform-data-from-strings-to-numeric-data\" data-toc-modified-id=\"transform-data-from-strings-to-numeric-data-2.2\"><span class=\"toc-item-num\">2.2&nbsp;&nbsp;</span>transform data from strings to numeric data</a></span></li><li><span><a href=\"#prepare-data-for-model\" data-toc-modified-id=\"prepare-data-for-model-2.3\"><span class=\"toc-item-num\">2.3&nbsp;&nbsp;</span>prepare data for model</a></span></li></ul></li><li><span><a href=\"#nn-model1\" data-toc-modified-id=\"nn-model1-3\"><span class=\"toc-item-num\">3&nbsp;&nbsp;</span>nn model1</a></span><ul class=\"toc-item\"><li><span><a href=\"#nn_model-#2\" data-toc-modified-id=\"nn_model-#2-3.1\"><span class=\"toc-item-num\">3.1&nbsp;&nbsp;</span>nn_model #2</a></span></li><li><span><a href=\"#nn-model-3\" data-toc-modified-id=\"nn-model-3-3.2\"><span class=\"toc-item-num\">3.2&nbsp;&nbsp;</span>nn model 3</a></span></li></ul></li><li><span><a href=\"#nn-model-no-SMOTE,-use-weights\" data-toc-modified-id=\"nn-model-no-SMOTE,-use-weights-4\"><span class=\"toc-item-num\">4&nbsp;&nbsp;</span>nn model no SMOTE, use weights</a></span><ul class=\"toc-item\"><li><span><a href=\"#model-and-assess-using-statistical-methods\" data-toc-modified-id=\"model-and-assess-using-statistical-methods-4.1\"><span class=\"toc-item-num\">4.1&nbsp;&nbsp;</span>model and assess using statistical methods</a></span></li></ul></li><li><span><a href=\"#use-best-performing-model-on-this-data\" data-toc-modified-id=\"use-best-performing-model-on-this-data-5\"><span class=\"toc-item-num\">5&nbsp;&nbsp;</span>use best performing model on this data</a></span></li><li><span><a href=\"#word2vec\" data-toc-modified-id=\"word2vec-6\"><span class=\"toc-item-num\">6&nbsp;&nbsp;</span>word2vec</a></span></li><li><span><a href=\"#Final-Model\" data-toc-modified-id=\"Final-Model-7\"><span class=\"toc-item-num\">7&nbsp;&nbsp;</span>Final Model</a></span></li><li><span><a href=\"#Conclusion\" data-toc-modified-id=\"Conclusion-8\"><span class=\"toc-item-num\">8&nbsp;&nbsp;</span>Conclusion</a></span></li></ul></div>"
   ]
  },
  {
   "cell_type": "code",
   "execution_count": 1,
   "metadata": {},
   "outputs": [],
   "source": [
    "#import modules for Obtain/Scrub/Explore\n",
    "import re\n",
    "import pandas as pd \n",
    "import numpy as np \n",
    "import nltk\n",
    "import string\n",
    "import matplotlib.pyplot as plt \n",
    "import seaborn as sns\n",
    "%matplotlib inline\n",
    "from collections import Counter"
   ]
  },
  {
   "cell_type": "code",
   "execution_count": 2,
   "metadata": {},
   "outputs": [],
   "source": [
    "import warnings \n",
    "warnings.simplefilter(action='ignore', category=FutureWarning)\n",
    "warnings.filterwarnings(\"ignore\", category=DeprecationWarning)"
   ]
  },
  {
   "cell_type": "markdown",
   "metadata": {},
   "source": [
    "# model"
   ]
  },
  {
   "cell_type": "code",
   "execution_count": 4,
   "metadata": {},
   "outputs": [],
   "source": [
    "# import modules for model\n",
    "import re\n",
    "import pandas as pd \n",
    "import numpy as np \n",
    "import matplotlib.pyplot as plt \n",
    "import seaborn as sns\n",
    "%matplotlib inline\n",
    "import random\n",
    "from keras.utils.np_utils import to_categorical\n",
    "from sklearn import preprocessing\n",
    "from sklearn.preprocessing import LabelEncoder,  LabelBinarizer\n",
    "from tensorflow import keras\n",
    "from keras.preprocessing.text import Tokenizer\n",
    "from keras import models, layers, optimizers, initializers, callbacks, regularizers\n",
    "from keras.models import Sequential\n",
    "from keras.layers import Dense, Flatten, Embedding, Input, Activation, BatchNormalization\n",
    "from sklearn.feature_extraction.text import TfidfVectorizer, CountVectorizer, TfidfTransformer\n",
    "from imblearn.over_sampling import SMOTE\n",
    "from sklearn.pipeline import Pipeline\n",
    "from sklearn.metrics import confusion_matrix\n",
    "from sklearn.decomposition import PCA\n",
    "from sklearn import metrics\n",
    "from sklearn.metrics import accuracy_score\n",
    "from sklearn.metrics import precision_score\n",
    "from sklearn.metrics import recall_score\n",
    "from sklearn.metrics import f1_score\n",
    "from sklearn.metrics import roc_auc_score\n",
    "from sklearn.metrics import confusion_matrix\n",
    "from sklearn.model_selection import train_test_split\n",
    "import gensim"
   ]
  },
  {
   "cell_type": "markdown",
   "metadata": {},
   "source": [
    "## functions"
   ]
  },
  {
   "cell_type": "code",
   "execution_count": 5,
   "metadata": {},
   "outputs": [],
   "source": [
    "def display_results(y_test, y_pred):\n",
    "    labels = np.unique(y_pred)\n",
    "    confusion_mat = confusion_matrix(y_test, y_pred, labels=labels)\n",
    "#calculate metrics globally by counting the total tp, fn and fp\n",
    "    precision_score(y_test, y_pred, average='micro')\n",
    "    print(\"Micro-precision score\")\n",
    "    print(\"Labels:\", labels)\n",
    "    print(\"Confusion Matrix:\\n\", confusion_mat)\n",
    "    print(\"Accuracy:\", accuracy)\n",
    "    # precision = tp / (tp + fp)"
   ]
  },
  {
   "cell_type": "code",
   "execution_count": 6,
   "metadata": {},
   "outputs": [],
   "source": [
    "def model_results(x):\n",
    "    results_train = x.evaluate(X_train, y_train)\n",
    "    print('Training:', results_train)\n",
    "    results_val = x.evaluate(X_val, y_val)\n",
    "    print('Validation:', results_val)\n",
    "    results_test = x.evaluate(X_test, y_test)\n",
    "    print('Test:', results_test)\n",
    "    "
   ]
  },
  {
   "cell_type": "code",
   "execution_count": 7,
   "metadata": {},
   "outputs": [],
   "source": [
    "def acc_loss_plot(model_dict):\n",
    "    acc_values = model_dict['accuracy']\n",
    "    loss_values =model_dict['loss']\n",
    "\n",
    "    epochs = range(1, len(loss_values) + 1)\n",
    "\n",
    "    # Plot the training loss vs the number of epochs\n",
    "    plt.figure(figsize=(12,9))\n",
    "    plt.plot(epochs, loss_values, 'b', label='Training loss')\n",
    "\n",
    "    plt.title('Training loss')\n",
    "    plt.xlabel('Epochs')\n",
    "    plt.ylabel('Loss')\n",
    "    plt.legend()\n",
    "    plt.show()\n",
    "\n",
    "\n",
    "    # Plot the training accuracy vs the number of epochs\n",
    "    plt.figure(figsize=(12,9))\n",
    "    plt.plot(epochs, acc_values, 'r', label='Training acc')\n",
    "\n",
    "\n",
    "    plt.title('Training accuracy')\n",
    "    plt.xlabel('Epochs')\n",
    "    plt.ylabel('Accuracy')\n",
    "    plt.legend(loc='lower right')\n",
    "\n",
    "    plt.show()"
   ]
  },
  {
   "cell_type": "code",
   "execution_count": 8,
   "metadata": {},
   "outputs": [],
   "source": [
    "# assess metrics of model\n",
    "def get_metrics(y_test, yhat_classes,yhat_probs):\n",
    "# accuracy: (tp + tn) / (p + n)\n",
    "    accuracy = accuracy_score(y_test, yhat_classes)\n",
    "    print('Accuracy: %f' % accuracy)\n",
    "# precision tp / (tp + fp)\n",
    "    precision = precision_score(y_test, yhat_classes)\n",
    "    print('Precision: %f' % precision)\n",
    "# recall: tp / (tp + fn)\n",
    "    recall = recall_score(y_test, yhat_classes)\n",
    "    print('Recall: %f' % recall)\n",
    "# f1: 2 tp / (2 tp + fp + fn)\n",
    "    f1 = f1_score(y_test, yhat_classes)\n",
    "    print('F1 score: %f' % f1)\n",
    "# ROC AUC\n",
    "    auc = roc_auc_score(y_test, yhat_probs)\n",
    "    print('ROC AUC: %f' % auc)\n",
    "# confusion matrix\n",
    "    matrix = confusion_matrix(y_test, yhat_classes)\n",
    "    print(matrix)"
   ]
  },
  {
   "cell_type": "code",
   "execution_count": 9,
   "metadata": {},
   "outputs": [],
   "source": [
    "def plot_history(x):\n",
    "    pd.DataFrame(x.history).plot(figsize=(10, 8))\n",
    "    plt.grid(True)\n",
    "    plt.gca().set_ylim(0, 1)\n",
    "    plt.show()"
   ]
  },
  {
   "cell_type": "code",
   "execution_count": 10,
   "metadata": {},
   "outputs": [],
   "source": [
    "#visualize confusion matrix\n",
    "def vis_cm(model, X, y, y_pred):\n",
    "    score = model.score(X, y)\n",
    "    confusion = confusion_matrix(y, y_pred)\n",
    "    \n",
    "    group_names = ['True Neg','False Pos','False Neg','True Pos']\n",
    "    group_counts = ['{0:0.0f}'.format(value) for value in\n",
    "                    confusion.flatten()]\n",
    "    group_percentages = ['{0:.2%}'.format(value) for value in\n",
    "                     confusion.flatten()/np.sum(confusion)]\n",
    "    labels = [f'{v1}\\n{v2}\\n{v3}' for v1, v2, v3 in\n",
    "          zip(group_names,group_counts,group_percentages)]\n",
    "    labels = np.asarray(labels).reshape(2,2)\n",
    "    sns.heatmap(confusion, annot=labels, fmt='', cmap='Blues')\n",
    "    matrix_title = \"Test Accuracy: %0.2f for {model}\" % (score)\n",
    "    plt.xlabel('Predicted')\n",
    "    plt.ylabel('True')\n",
    "    plt.show()"
   ]
  },
  {
   "cell_type": "markdown",
   "metadata": {},
   "source": [
    "# import data"
   ]
  },
  {
   "cell_type": "code",
   "execution_count": 11,
   "metadata": {},
   "outputs": [],
   "source": [
    "df = pd.read_csv('pn_df.csv')"
   ]
  },
  {
   "cell_type": "markdown",
   "metadata": {},
   "source": [
    "## PCA data visualization"
   ]
  },
  {
   "cell_type": "code",
   "execution_count": 12,
   "metadata": {},
   "outputs": [
    {
     "data": {
      "image/png": "[encoded data removed]",
      "text/plain": [
       "<Figure size 1296x864 with 1 Axes>"
      ]
     },
     "metadata": {
      "needs_background": "light"
     },
     "output_type": "display_data"
    }
   ],
   "source": [
    "# plot PCA visualization of tokens\n",
    "\n",
    "g_plot = df.copy()\n",
    "col = ['wordl', 'sentiment']\n",
    "g_plot = g_plot[col]\n",
    "X_p = g_plot['wordl']\n",
    "y_p = g_plot['sentiment']\n",
    "\n",
    "\n",
    "pipeline = Pipeline([\n",
    "    ('vect', CountVectorizer()),\n",
    "    ('tfidf', TfidfTransformer()),\n",
    "])        \n",
    "Xp = pipeline.fit_transform(X_p).todense()\n",
    "\n",
    "pca = PCA(n_components=2).fit(Xp)\n",
    "pca = PCA(n_components=2)\n",
    "principalComponents = pca.fit_transform(Xp)\n",
    "\n",
    "principalDf = pd.DataFrame(data = principalComponents\n",
    "             , columns = ['principal component 1', 'principal component 2'])\n",
    "\n",
    "\n",
    "finalDf = pd.concat([principalDf, g_plot[['sentiment']]], axis = 1)\n",
    "\n",
    "fig = plt.figure(figsize = (18,12))\n",
    "ax = fig.add_subplot(1,1,1) \n",
    "ax.set_xlabel('Principal Component 1', fontsize = 15)\n",
    "ax.set_ylabel('Principal Component 2', fontsize = 15)\n",
    "ax.set_title('2 component PCA', fontsize = 20)\n",
    "targets = ['positive', 'negative']\n",
    "colors = ['r', 'b']\n",
    "for target, color in zip(targets,colors):\n",
    "    indicesToKeep = finalDf['sentiment'] == target\n",
    "    ax.scatter(finalDf.loc[indicesToKeep, 'principal component 1']\n",
    "               , finalDf.loc[indicesToKeep, 'principal component 2']\n",
    "               , c = color\n",
    "               , s = 50)\n",
    "ax.legend(targets)\n",
    "ax.grid()"
   ]
  },
  {
   "cell_type": "markdown",
   "metadata": {},
   "source": [
    "## transform data from strings to numeric data"
   ]
  },
  {
   "cell_type": "markdown",
   "metadata": {},
   "source": [
    "## prepare data for model "
   ]
  },
  {
   "cell_type": "code",
   "execution_count": 13,
   "metadata": {},
   "outputs": [
    {
     "data": {
      "text/plain": [
       "array([0, 1, 1, ..., 0, 1, 1])"
      ]
     },
     "execution_count": 13,
     "metadata": {},
     "output_type": "execute_result"
    }
   ],
   "source": [
    "# convert target data with labelencoder\n",
    "le = LabelEncoder()\n",
    "y = df['target'].copy()\n",
    "le.fit_transform(y)"
   ]
  },
  {
   "cell_type": "code",
   "execution_count": 14,
   "metadata": {},
   "outputs": [],
   "source": [
    "X = df.wordl.copy()"
   ]
  },
  {
   "cell_type": "code",
   "execution_count": 15,
   "metadata": {},
   "outputs": [],
   "source": [
    "#X = [\" \".join(t) for t in df.tokenl]\n",
    "# split data \n",
    "X_train, X_test, y_train, y_test = train_test_split(X, y, random_state=42,\n",
    "                                                     test_size=.2, stratify=y)\n",
    "X_train, X_val, y_train, y_val  = train_test_split(X_train, y_train,\n",
    "                                                    test_size=0.1, \n",
    "                                                    random_state=42,\n",
    "                                                    stratify=y_train)\n"
   ]
  },
  {
   "cell_type": "code",
   "execution_count": 16,
   "metadata": {},
   "outputs": [
    {
     "name": "stdout",
     "output_type": "stream",
     "text": [
      "Test label shape: (679,)\n",
      "Train label shape: (2441,)\n",
      "Validation label shape: (272,)\n",
      "Test shape: (679,)\n",
      "Train shape: (2441,)\n",
      "Validation shape: (272,)\n"
     ]
    }
   ],
   "source": [
    "# verify shape of data\n",
    "print('Test label shape:', np.shape(y_test))\n",
    "print('Train label shape:', np.shape(y_train))\n",
    "print('Validation label shape:', np.shape(y_val))\n",
    "print('Test shape:', np.shape(X_test))\n",
    "print('Train shape:', np.shape(X_train))\n",
    "print('Validation shape:', np.shape(X_val))"
   ]
  },
  {
   "cell_type": "code",
   "execution_count": 17,
   "metadata": {},
   "outputs": [],
   "source": [
    "pipeline = Pipeline([ ('vect', CountVectorizer(ngram_range=(1,3))), \n",
    "                     ('tfidf', TfidfTransformer(use_idf=True)), ])\n",
    "X_train = pipeline.fit_transform(X_train).todense() \n",
    "X_test = pipeline.transform(X_test).todense() \n",
    "X_val = pipeline.transform(X_val).todense()\n"
   ]
  },
  {
   "cell_type": "code",
   "execution_count": 18,
   "metadata": {},
   "outputs": [
    {
     "name": "stdout",
     "output_type": "stream",
     "text": [
      "Test label shape: (679,)\n",
      "Train label shape: (2441,)\n",
      "Validation label shape: (272,)\n",
      "Test shape: (679, 29009)\n",
      "Train shape: (2441, 29009)\n",
      "Validation shape: (272, 29009)\n"
     ]
    }
   ],
   "source": [
    "# verify shape of data\n",
    "print('Test label shape:', np.shape(y_test))\n",
    "print('Train label shape:', np.shape(y_train))\n",
    "print('Validation label shape:', np.shape(y_val))\n",
    "print('Test shape:', np.shape(X_test))\n",
    "print('Train shape:', np.shape(X_train))\n",
    "print('Validation shape:', np.shape(X_val))"
   ]
  },
  {
   "cell_type": "code",
   "execution_count": 19,
   "metadata": {},
   "outputs": [
    {
     "name": "stdout",
     "output_type": "stream",
     "text": [
      "Counter({1: 2051, 0: 390})\n"
     ]
    }
   ],
   "source": [
    "counter = Counter(y_train)\n",
    "print(counter)"
   ]
  },
  {
   "cell_type": "code",
   "execution_count": 20,
   "metadata": {},
   "outputs": [
    {
     "name": "stdout",
     "output_type": "stream",
     "text": [
      "Counter({1: 2051, 0: 2051})\n"
     ]
    }
   ],
   "source": [
    "# apply smote to dataset due to imbalance of pos vs neg sentiment\n",
    "sm = SMOTE(random_state=42)\n",
    "X_train, y_train = sm.fit_resample(X_train, y_train)\n",
    "\n",
    "# summarize the new class distribution\n",
    "counter = Counter(y_train)\n",
    "print(counter)"
   ]
  },
  {
   "cell_type": "code",
   "execution_count": 21,
   "metadata": {},
   "outputs": [
    {
     "name": "stdout",
     "output_type": "stream",
     "text": [
      "Test label shape: (679,)\n",
      "Train label shape: (4102,)\n",
      "Test shape: (679, 29009)\n",
      "Train shape: (4102, 29009)\n",
      "Counter({1: 2051, 0: 2051})\n",
      "29009\n"
     ]
    }
   ],
   "source": [
    "# verify new shape of data\n",
    "print('Test label shape:', np.shape(y_test))\n",
    "print('Train label shape:', np.shape(y_train))\n",
    "print('Test shape:', np.shape(X_test))\n",
    "print('Train shape:', np.shape(X_train))\n",
    "\n",
    "counter = Counter(y_train)\n",
    "print(counter)\n",
    "\n",
    "#assign variable to np.shape tuple, width dimension\n",
    "input_dimension = np.shape(X_train)\n",
    "count_terms = input_dimension[1]\n",
    "print(count_terms)"
   ]
  },
  {
   "cell_type": "code",
   "execution_count": 22,
   "metadata": {},
   "outputs": [],
   "source": [
    "# parameters need to be defined, kernel initializers and regularizers applied. \n",
    "# assess layer structure, depth and width\n",
    "# assess neurons \n",
    "# batch normalization\n",
    "# dropout layers\n",
    "# batch size and epochs\n",
    "# activation function\n",
    "# learning rate\n",
    "# loss function & parameters"
   ]
  },
  {
   "cell_type": "markdown",
   "metadata": {},
   "source": [
    "# nn model1 "
   ]
  },
  {
   "cell_type": "code",
   "execution_count": 23,
   "metadata": {},
   "outputs": [
    {
     "name": "stdout",
     "output_type": "stream",
     "text": [
      "WARNING:tensorflow:From /Users/badmin/opt/anaconda3/lib/python3.7/site-packages/tensorflow/python/ops/init_ops.py:1288: calling VarianceScaling.__init__ (from tensorflow.python.ops.init_ops) with dtype is deprecated and will be removed in a future version.\n",
      "Instructions for updating:\n",
      "Call initializer instance with the dtype argument instead of passing it to the constructor\n"
     ]
    }
   ],
   "source": [
    "# initializers with seed for reproducability\n",
    "# for relu activated layer\n",
    "initializer = keras.initializers.he_normal(seed=1)\n",
    "\n",
    "# for tanh layer\n",
    "initializer2 = keras.initializers.glorot_normal(seed=1)\n",
    "\n",
    "# regularizer to minimize overfitting\n",
    "regularizer = keras.regularizers.l2(0.01)\n",
    "\n",
    "# early stopping callback to prevent overfitting\n",
    "es_callback = keras.callbacks.EarlyStopping(monitor='loss', patience=6)\n",
    "\n",
    "#define optimizer and learningrate/learning rate \n",
    "nad_opt = optimizers.Nadam(learning_rate=0.001, beta_1=0.9, beta_2=0.999, epsilon=1e-07)\n",
    "ad_opt = optimizers.Adam(lr=0.01, beta_1=0.9, beta_2=0.999, epsilon=10e-8)\n",
    "sgd_opt = optimizers.SGD(lr=1e-6, momentum=0.9, nesterov=True)\n"
   ]
  },
  {
   "cell_type": "code",
   "execution_count": 24,
   "metadata": {},
   "outputs": [
    {
     "name": "stdout",
     "output_type": "stream",
     "text": [
      "WARNING:tensorflow:From /Users/badmin/opt/anaconda3/lib/python3.7/site-packages/tensorflow/python/ops/nn_impl.py:180: add_dispatch_support.<locals>.wrapper (from tensorflow.python.ops.array_ops) is deprecated and will be removed in a future version.\n",
      "Instructions for updating:\n",
      "Use tf.where in 2.0, which has the same broadcast rule as np.where\n"
     ]
    }
   ],
   "source": [
    "# create pyramid shaped sequential model\n",
    "\n",
    "model1_2 = models.Sequential()\n",
    "\n",
    "# activation layer \n",
    "model1_2.add(layers.Dense(500, input_dim=count_terms, activation='relu', \n",
    "                          kernel_regularizer=regularizer))\n",
    "model1_2.add(layers.BatchNormalization(momentum=0.8))   \n",
    "# add relu activated hidden layers\n",
    "model1_2.add(layers.Dense(300, activation='relu'))   \n",
    "# add relu activated hidden layers\n",
    "model1_2.add(layers.Dense(100, activation='relu'))   \n",
    "model1_2.add(layers.BatchNormalization(momentum=0.8))   \n",
    "# add relu activated hidden layers\n",
    "model1_2.add(layers.Dense(64,))   \n",
    "\n",
    "model1_2.add(layers.Dense(6, ))  \n",
    "\n",
    "# output layer with sigmoid activation for binary target\n",
    "model1_2.add(layers.Dense(1, activation='sigmoid'))\n",
    "\n",
    "\n",
    "nad_opt = optimizers.Nadam(lr=1e-5, beta_1=0.9, beta_2=0.999)\n",
    "# use bce loss function for binary classification \n",
    "model1_2.compile(optimizer=nad_opt, loss='binary_crossentropy', metrics=['accuracy'])"
   ]
  },
  {
   "cell_type": "code",
   "execution_count": null,
   "metadata": {},
   "outputs": [
    {
     "name": "stdout",
     "output_type": "stream",
     "text": [
      "WARNING:tensorflow:From /Users/badmin/opt/anaconda3/lib/python3.7/site-packages/keras/backend/tensorflow_backend.py:422: The name tf.global_variables is deprecated. Please use tf.compat.v1.global_variables instead.\n",
      "\n",
      "Train on 4102 samples, validate on 272 samples\n",
      "Epoch 1/300\n",
      "4102/4102 [==============================] - 40s 10ms/step - loss: 10.1502 - accuracy: 0.6404 - val_loss: 9.7188 - val_accuracy: 0.6912\n",
      "Epoch 2/300\n",
      "4102/4102 [==============================] - 33s 8ms/step - loss: 9.1895 - accuracy: 0.8827 - val_loss: 9.1225 - val_accuracy: 0.7904\n",
      "Epoch 3/300\n",
      "4102/4102 [==============================] - 41s 10ms/step - loss: 8.5643 - accuracy: 0.9676 - val_loss: 8.6199 - val_accuracy: 0.8199\n",
      "Epoch 4/300\n",
      "4102/4102 [==============================] - 35s 9ms/step - loss: 8.0641 - accuracy: 0.9902 - val_loss: 8.1926 - val_accuracy: 0.8199\n",
      "Epoch 5/300\n",
      "4102/4102 [==============================] - 38s 9ms/step - loss: 7.6308 - accuracy: 0.9956 - val_loss: 7.7775 - val_accuracy: 0.8382\n",
      "Epoch 6/300\n",
      "4102/4102 [==============================] - 35s 9ms/step - loss: 7.2356 - accuracy: 0.9988 - val_loss: 7.4118 - val_accuracy: 0.8382\n",
      "Epoch 7/300\n",
      "1008/4102 [======>.......................] - ETA: 37s - loss: 7.0009 - accuracy: 0.9990"
     ]
    }
   ],
   "source": [
    "# Train the model \n",
    "predictions1_2 = model1_2.fit(X_train,\n",
    "                    y_train,\n",
    "                    epochs=300,\n",
    "                    callbacks=[es_callback],\n",
    "                    batch_size=72,\n",
    "                    validation_data=(X_val, y_val),\n",
    "                    shuffle=True\n",
    "                    )\n",
    "                    "
   ]
  },
  {
   "cell_type": "code",
   "execution_count": null,
   "metadata": {},
   "outputs": [],
   "source": [
    "model1_2.summary()"
   ]
  },
  {
   "cell_type": "code",
   "execution_count": null,
   "metadata": {},
   "outputs": [],
   "source": [
    "m1_dict2 =  predictions1_2.history\n",
    "m1_dict2.keys()"
   ]
  },
  {
   "cell_type": "code",
   "execution_count": null,
   "metadata": {},
   "outputs": [],
   "source": [
    "plot_history(predictions1_2)"
   ]
  },
  {
   "cell_type": "code",
   "execution_count": null,
   "metadata": {},
   "outputs": [],
   "source": [
    "acc_loss_plot(m1_dict2)"
   ]
  },
  {
   "cell_type": "code",
   "execution_count": null,
   "metadata": {},
   "outputs": [],
   "source": [
    "model_results(model1_2)"
   ]
  },
  {
   "cell_type": "code",
   "execution_count": null,
   "metadata": {},
   "outputs": [],
   "source": [
    "# predict probabilities for test set\n",
    "yhat_probs = model1_2.predict(X_test, verbose=0)\n",
    "# predict crisp classes for test set\n",
    "yhat_classes = model1_2.predict_classes(X_test, verbose=0)\n",
    "\n",
    "# reduce to 1d array\n",
    "yhat_probs = yhat_probs[:, 0]\n",
    "yhat_classes = yhat_classes[:, 0]"
   ]
  },
  {
   "cell_type": "code",
   "execution_count": null,
   "metadata": {},
   "outputs": [],
   "source": [
    "# assess metrics of model\n",
    "get_metrics(y_test, yhat_classes, yhat_probs)"
   ]
  },
  {
   "cell_type": "markdown",
   "metadata": {},
   "source": [
    "## nn_model #2 "
   ]
  },
  {
   "cell_type": "code",
   "execution_count": null,
   "metadata": {},
   "outputs": [],
   "source": [
    "regularizer2 = keras.regularizers.l2(0.01)"
   ]
  },
  {
   "cell_type": "code",
   "execution_count": null,
   "metadata": {},
   "outputs": [],
   "source": [
    "# create pyramid shaped sequential model\n",
    "model2 = models.Sequential()\n",
    "# activation layer \n",
    "model2.add(layers.Dense(300, input_dim=count_terms, activation='relu', \n",
    "                       kernel_initializer=initializer, kernel_regularizer=regularizer, ))\n",
    "model2.add(layers.BatchNormalization(momentum=0.7))\n",
    "# add relu activated hidden layers\n",
    "model2.add(layers.Dense(64, activation='relu', kernel_regularizer=regularizer, \n",
    "                       ))   \n",
    "# output layer with sigmoid activation for binary target\n",
    "model2.add(layers.Dense(1, activation='sigmoid'))# create sequential model\n"
   ]
  },
  {
   "cell_type": "code",
   "execution_count": null,
   "metadata": {},
   "outputs": [],
   "source": [
    "# Compile the model\n",
    "# early stopping to prevent overfitting changed to training loss rather than val_loss\n",
    "es_callback = keras.callbacks.EarlyStopping(monitor='loss', min_delta=0.001, patience=5)\n",
    "\n",
    "# optimizer\n",
    "ad_opt = optimizers.Adam(lr=0.001, beta_1=0.9, beta_2=0.999)\n",
    "\n",
    "# use bce loss function for binary classification \n",
    "model2.compile(optimizer=ad_opt, loss='binary_crossentropy', metrics=['accuracy'])"
   ]
  },
  {
   "cell_type": "code",
   "execution_count": null,
   "metadata": {},
   "outputs": [],
   "source": [
    "# Train the model \n",
    "predictions3 = model2.fit(X_train,\n",
    "                    y_train,\n",
    "                    epochs=300,\n",
    "                    callbacks=[es_callback],\n",
    "                    batch_size=100,\n",
    "                    validation_data=(X_val, y_val),\n",
    "                    shuffle=True\n",
    "                    )"
   ]
  },
  {
   "cell_type": "code",
   "execution_count": null,
   "metadata": {},
   "outputs": [],
   "source": [
    "model2.summary()"
   ]
  },
  {
   "cell_type": "code",
   "execution_count": null,
   "metadata": {},
   "outputs": [],
   "source": [
    "model2_dict = predictions3.history\n",
    "model2_dict.keys()"
   ]
  },
  {
   "cell_type": "code",
   "execution_count": null,
   "metadata": {},
   "outputs": [],
   "source": [
    "plot_history(predictions3)"
   ]
  },
  {
   "cell_type": "code",
   "execution_count": null,
   "metadata": {},
   "outputs": [],
   "source": [
    "acc_loss_plot(model2_dict)"
   ]
  },
  {
   "cell_type": "code",
   "execution_count": null,
   "metadata": {},
   "outputs": [],
   "source": [
    "# Print the loss and accuracy for the training set \n",
    "model_results(model2)"
   ]
  },
  {
   "cell_type": "code",
   "execution_count": null,
   "metadata": {},
   "outputs": [],
   "source": [
    "# predict probabilities for test set\n",
    "yhat_probs = model2.predict(X_test, verbose=0)\n",
    "# predict crisp classes for test set\n",
    "yhat_classes = model2.predict_classes(X_test, verbose=0)\n",
    "\n",
    "# reduce to 1d array\n",
    "yhat_probs = yhat_probs[:, 0]\n",
    "yhat_classes = yhat_classes[:, 0]\n"
   ]
  },
  {
   "cell_type": "code",
   "execution_count": null,
   "metadata": {},
   "outputs": [],
   "source": [
    "# assess metrics for model\n",
    "get_metrics(y_test, yhat_classes, yhat_probs)"
   ]
  },
  {
   "cell_type": "markdown",
   "metadata": {},
   "source": [
    "## nn model 3"
   ]
  },
  {
   "cell_type": "code",
   "execution_count": null,
   "metadata": {},
   "outputs": [],
   "source": [
    "# create sequential model\n",
    "model3 = models.Sequential()\n",
    "\n",
    "# activation layer \n",
    "model3.add(layers.Dense(312, input_dim=count_terms, activation='relu',\n",
    "                        kernel_regularizer=regularizer2))\n",
    "model3.add(layers.BatchNormalization(momentum=0.8))\n",
    "model3.add(layers.Dense(96,  activation='relu',))\n",
    "model3.add(layers.Dense(32,  activation='relu',))\n",
    "model3.add(layers.BatchNormalization(momentum=0.8))\n",
    "model3.add(layers.Dense(10,  activation='relu',))\n",
    "# output layer with sigmoid activation for binary target\n",
    "model3.add(layers.Dense(1, activation='sigmoid'))"
   ]
  },
  {
   "cell_type": "code",
   "execution_count": null,
   "metadata": {},
   "outputs": [],
   "source": [
    "es_callback = keras.callbacks.EarlyStopping(monitor='loss', min_delta=0.001, patience=5)\n",
    "# optimizer\n",
    "nad_opt = optimizers.Nadam(lr=1e-5, beta_1=0.9, beta_2=0.999)\n",
    "# compile model\n",
    "model3.compile(optimizer=nad_opt, loss=\"binary_crossentropy\", metrics=['accuracy'])"
   ]
  },
  {
   "cell_type": "code",
   "execution_count": null,
   "metadata": {},
   "outputs": [],
   "source": [
    "# Train the model \n",
    "predictions4 = model3.fit(X_train,\n",
    "                    y_train,\n",
    "                    epochs=256,\n",
    "                    callbacks=[es_callback],\n",
    "                    batch_size=72,\n",
    "                    validation_data=(X_val, y_val),\n",
    "                    shuffle=True\n",
    "                         )"
   ]
  },
  {
   "cell_type": "code",
   "execution_count": null,
   "metadata": {},
   "outputs": [],
   "source": [
    "model3_dict = predictions4.history\n",
    "model3_dict.keys()"
   ]
  },
  {
   "cell_type": "code",
   "execution_count": null,
   "metadata": {},
   "outputs": [],
   "source": [
    "model_results(model3)"
   ]
  },
  {
   "cell_type": "code",
   "execution_count": null,
   "metadata": {},
   "outputs": [],
   "source": [
    "plot_history(predictions4)"
   ]
  },
  {
   "cell_type": "code",
   "execution_count": null,
   "metadata": {},
   "outputs": [],
   "source": [
    "acc_loss_plot(model3_dict)"
   ]
  },
  {
   "cell_type": "code",
   "execution_count": null,
   "metadata": {},
   "outputs": [],
   "source": [
    "# Output (probability) predictions for the train set \n",
    "y_hat_train = model3.predict(X_train) \n"
   ]
  },
  {
   "cell_type": "code",
   "execution_count": null,
   "metadata": {},
   "outputs": [],
   "source": [
    "# predict probabilities for test set\n",
    "yhat_probs = model3.predict(X_test, verbose=0)\n",
    "# predict crisp classes for test set\n",
    "yhat_classes = model3.predict_classes(X_test, verbose=0)\n",
    "\n",
    "# reduce to 1d array\n",
    "yhat_probs = yhat_probs[:, 0]\n",
    "yhat_classes = yhat_classes[:, 0]"
   ]
  },
  {
   "cell_type": "code",
   "execution_count": null,
   "metadata": {},
   "outputs": [],
   "source": [
    "get_metrics(y_test, yhat_classes,yhat_probs)"
   ]
  },
  {
   "cell_type": "markdown",
   "metadata": {},
   "source": [
    "# nn model no SMOTE, use weights"
   ]
  },
  {
   "cell_type": "code",
   "execution_count": null,
   "metadata": {},
   "outputs": [],
   "source": []
  },
  {
   "cell_type": "code",
   "execution_count": null,
   "metadata": {},
   "outputs": [],
   "source": [
    "# prepare data\n",
    "X = df.wordl.copy()\n",
    "\n",
    "y1 = df['target'].astype('category')\n",
    "# split data \n",
    "X3_train, X3_test, y3_train, y3_test = train_test_split(X, y1, random_state=42,\n",
    "                                                     test_size=.2, stratify=y1)\n",
    "\n",
    "# split data \n",
    "X3_train, X3_val, y3_train, y3_val = train_test_split(X3_train, y3_train, random_state=42,\n",
    "                                                     test_size=.1, stratify=y3_train)\n",
    "# build TFIDF features on tweet with tfidf vectorizer\n",
    "tfv = TfidfVectorizer(min_df=0.0, max_df=1.0, ngram_range=(1,2), use_idf=True\n",
    "                     )\n",
    "X_train_trans = tfv.fit_transform(X3_train)\n",
    "xdf = pd.DataFrame(X_train_trans[0].T.todense(),\n",
    "index=tfv.get_feature_names(), columns=[\"term\"])\n",
    "xdf = xdf.sort_values('term', ascending=False)\n",
    "print (xdf.head(25))\n",
    "X_val_trans = tfv.transform(X3_val)\n",
    "test_features = tfv.transform(X3_test)\n",
    "X3_train = X_train_trans\n",
    "X3_test = test_features\n",
    "X3_val = X_val_trans"
   ]
  },
  {
   "cell_type": "code",
   "execution_count": null,
   "metadata": {},
   "outputs": [],
   "source": [
    "# verify shape of data\n",
    "print('Test label shape:', np.shape(y3_test))\n",
    "print('Validation label shape:', np.shape(y3_val))\n",
    "print('Train label shape:', np.shape(y3_train))\n",
    "print('Test shape:', np.shape(X3_test))\n",
    "print('Validation shape:', np.shape(X3_val))\n",
    "print('Train shape:', np.shape(X3_train))\n",
    "#assign variable to np.shape tuple, width dimension\n",
    "input_dimension = np.shape(X3_train)\n",
    "count_terms = input_dimension[1]\n"
   ]
  },
  {
   "cell_type": "code",
   "execution_count": null,
   "metadata": {},
   "outputs": [],
   "source": [
    "# get class weights for use in model in lieu of smote\n",
    "from sklearn.utils import class_weight\n",
    "class_weights = class_weight.compute_class_weight('balanced', np.unique(y3_train), y3_train)\n",
    "print(class_weights)"
   ]
  },
  {
   "cell_type": "code",
   "execution_count": null,
   "metadata": {},
   "outputs": [],
   "source": [
    "# create model\n",
    "model4 = models.Sequential()\n",
    "# activation layer \n",
    "model4.add(layers.Dense(300, input_dim=count_terms, activation='relu', \n",
    "                       kernel_initializer=initializer, kernel_regularizer=regularizer, ))\n",
    "model4.add(layers.BatchNormalization(momentum=0.7))\n",
    "# add relu activated hidden layers\n",
    "model4.add(layers.Dense(64, activation='relu', kernel_regularizer=regularizer, \n",
    "                       ))   \n",
    "# output layer with sigmoid activation for binary target\n",
    "model4.add(layers.Dense(1, activation='sigmoid'))"
   ]
  },
  {
   "cell_type": "code",
   "execution_count": null,
   "metadata": {},
   "outputs": [],
   "source": [
    "# early stopping callback to prevent overfitting\n",
    "es_callback = keras.callbacks.EarlyStopping(monitor='loss', min_delta= 0.001, patience=5)\n",
    "# use bce loss function for binary classification and default adagrad optimizerparameters\n",
    "model4.compile(optimizer='Adagrad', loss='binary_crossentropy', metrics=['accuracy'])"
   ]
  },
  {
   "cell_type": "code",
   "execution_count": null,
   "metadata": {},
   "outputs": [],
   "source": [
    "# Train the model \n",
    "predictions5 = model4.fit(X3_train,\n",
    "                    y3_train,\n",
    "                    epochs=200,\n",
    "                    callbacks=[es_callback],\n",
    "                    batch_size=72,\n",
    "                    class_weight={1:3.1, 0:0.60},\n",
    "                    validation_data=(X3_val, y3_val),\n",
    "                    shuffle=True                    \n",
    "                    )                 "
   ]
  },
  {
   "cell_type": "code",
   "execution_count": null,
   "metadata": {},
   "outputs": [],
   "source": [
    "model4.summary()"
   ]
  },
  {
   "cell_type": "code",
   "execution_count": null,
   "metadata": {},
   "outputs": [],
   "source": [
    "model4_dict = predictions5.history\n",
    "model4_dict.keys()"
   ]
  },
  {
   "cell_type": "code",
   "execution_count": null,
   "metadata": {},
   "outputs": [],
   "source": [
    "plot_history(predictions5)"
   ]
  },
  {
   "cell_type": "code",
   "execution_count": null,
   "metadata": {},
   "outputs": [],
   "source": [
    "acc_loss_plot(model4_dict)"
   ]
  },
  {
   "cell_type": "code",
   "execution_count": null,
   "metadata": {},
   "outputs": [],
   "source": [
    "# Print the loss and accuracy for the training set \n",
    "results_train = model4.evaluate(X3_train, y3_train)\n",
    "results_train"
   ]
  },
  {
   "cell_type": "code",
   "execution_count": null,
   "metadata": {},
   "outputs": [],
   "source": [
    "results_val = model4.evaluate(X3_val, y3_val)\n",
    "results_val"
   ]
  },
  {
   "cell_type": "code",
   "execution_count": null,
   "metadata": {},
   "outputs": [],
   "source": [
    "# Output (probability) predictions for the train set \n",
    "y_hat_train = model4.predict(X3_train) "
   ]
  },
  {
   "cell_type": "code",
   "execution_count": null,
   "metadata": {},
   "outputs": [],
   "source": [
    "# Print the loss and accuracy for the test set \n",
    "results_test = model4.evaluate(X3_test, y3_test)\n",
    "results_test"
   ]
  },
  {
   "cell_type": "code",
   "execution_count": null,
   "metadata": {},
   "outputs": [],
   "source": [
    "# predict probabilities for test set\n",
    "yhat_probs = model4.predict(X3_test, verbose=0)\n",
    "# predict crisp classes for test set\n",
    "yhat_classes = model4.predict_classes(X3_test, verbose=0)\n",
    "\n",
    "# reduce to 1d array\n",
    "yhat_probs = yhat_probs[:, 0]\n",
    "yhat_classes = yhat_classes[:, 0]"
   ]
  },
  {
   "cell_type": "code",
   "execution_count": null,
   "metadata": {},
   "outputs": [],
   "source": [
    "get_metrics(y3_test, yhat_classes,yhat_probs)"
   ]
  },
  {
   "cell_type": "code",
   "execution_count": null,
   "metadata": {},
   "outputs": [],
   "source": [
    "print(classification_report(y3_test, yhat_classes))"
   ]
  },
  {
   "cell_type": "markdown",
   "metadata": {},
   "source": [
    "## model and assess using statistical methods"
   ]
  },
  {
   "cell_type": "markdown",
   "metadata": {},
   "source": [
    "# use best performing model on this data "
   ]
  },
  {
   "cell_type": "code",
   "execution_count": null,
   "metadata": {},
   "outputs": [],
   "source": [
    "p6 = model1_2.fit(X3_train,\n",
    "                    y3_train,\n",
    "                    epochs=500,\n",
    "                    callbacks=[es_callback],\n",
    "                    batch_size=100,\n",
    "                    class_weight={1:3.1, 0:0.60},\n",
    "                    validation_data=(X3_val, y3_val),\n",
    "                    shuffle=True\n",
    "                         )\n"
   ]
  },
  {
   "cell_type": "code",
   "execution_count": null,
   "metadata": {},
   "outputs": [],
   "source": [
    "# predict probabilities for test set\n",
    "yhat_probs = model1_2.predict(X3_test, verbose=0)\n",
    "# predict crisp classes for test set\n",
    "yhat_classes = model1_2.predict_classes(X3_test, verbose=0)\n",
    "\n",
    "# reduce to 1d array\n",
    "yhat_probs = yhat_probs[:, 0]\n",
    "yhat_classes = yhat_classes[:, 0]\n",
    "get_metrics(y3_test, yhat_classes,yhat_probs)"
   ]
  },
  {
   "cell_type": "code",
   "execution_count": null,
   "metadata": {},
   "outputs": [],
   "source": [
    "# summarize the  class distribution\n",
    "counter = Counter(y_train)\n",
    "print(counter)"
   ]
  },
  {
   "cell_type": "markdown",
   "metadata": {},
   "source": [
    "# word2vec"
   ]
  },
  {
   "cell_type": "code",
   "execution_count": null,
   "metadata": {},
   "outputs": [],
   "source": [
    "from tqdm import tqdm"
   ]
  },
  {
   "cell_type": "code",
   "execution_count": null,
   "metadata": {},
   "outputs": [],
   "source": [
    "from keras.preprocessing.text import Tokenizer\n",
    "from keras.preprocessing.sequence import pad_sequences"
   ]
  },
  {
   "cell_type": "code",
   "execution_count": null,
   "metadata": {},
   "outputs": [],
   "source": [
    "maxlen=17"
   ]
  },
  {
   "cell_type": "code",
   "execution_count": null,
   "metadata": {},
   "outputs": [],
   "source": [
    "from gensim.models import Word2Vec \n",
    "import time\n",
    "\n",
    "start_time = time.time()"
   ]
  },
  {
   "cell_type": "code",
   "execution_count": null,
   "metadata": {},
   "outputs": [],
   "source": [
    "lb = LabelBinarizer()\n",
    "y = pd.DataFrame()\n",
    "y = lb.fit_transform(df['target'])"
   ]
  },
  {
   "cell_type": "code",
   "execution_count": null,
   "metadata": {},
   "outputs": [],
   "source": [
    "X= df['wordl'].copy()"
   ]
  },
  {
   "cell_type": "code",
   "execution_count": null,
   "metadata": {},
   "outputs": [],
   "source": [
    "train_corpus = df['wordl'].copy()\n",
    "size=100\n",
    "## create list of lists of unigrams\n",
    "corpus = []\n",
    "for string in train_corpus:\n",
    "   words = string.split()\n",
    "   grams = [\" \".join(words[i:i+1]) \n",
    "               for i in range(0, len(words), 1)]\n",
    "   corpus.append(grams)\n",
    "\n",
    "## detect bigrams \n",
    "bigrams_detector = gensim.models.phrases.Phrases(corpus, \n",
    "                delimiter=\" \".encode(), min_count=5, threshold=7)\n",
    "bigrams_detector = gensim.models.phrases.Phraser(bigrams_detector)\n"
   ]
  },
  {
   "cell_type": "code",
   "execution_count": null,
   "metadata": {},
   "outputs": [],
   "source": [
    "wv_nlp_model_file = 'nlp_' + 'word2vec_' + str(size) + '.model'\n",
    "wv_nlp_model = Word2Vec(corpus,  min_count=1,\n",
    "                     window=5,\n",
    "                     size=100,\n",
    "                     sg=1,\n",
    "                     workers=5)\n",
    "print(\"Time taken to train word2vec nlp model: \" + str(time.time() - start_time))\n",
    "wv_nlp_model.save(wv_nlp_model_file)"
   ]
  },
  {
   "cell_type": "code",
   "execution_count": null,
   "metadata": {},
   "outputs": [],
   "source": [
    "\n",
    "## tokenize text\n",
    "tokenizer = Tokenizer(split=' ', \n",
    "                      )\n",
    "tokenizer.fit_on_texts(corpus)\n",
    "dic_vocabulary = tokenizer.word_index\n",
    "## create sequence\n",
    "text2seq= tokenizer.texts_to_sequences(corpus)\n",
    "## padding sequence\n",
    "X = pad_sequences(text2seq, \n",
    "                    maxlen=maxlen+1, padding=\"post\", truncating=\"post\")"
   ]
  },
  {
   "cell_type": "code",
   "execution_count": null,
   "metadata": {},
   "outputs": [],
   "source": [
    "vocab_size = (len(dic_vocabulary)+1)\n",
    "vocab_size"
   ]
  },
  {
   "cell_type": "code",
   "execution_count": null,
   "metadata": {},
   "outputs": [],
   "source": [
    "X_train, X_test, y_train, y_test = train_test_split(X, \n",
    "                                                     df['target'], \n",
    "                                                     random_state=42,\n",
    "                                                     test_size=.2, stratify=y)"
   ]
  },
  {
   "cell_type": "code",
   "execution_count": null,
   "metadata": {},
   "outputs": [],
   "source": [
    "sns.heatmap(X_train==0, vmin=0, vmax=1, cbar=False)\n",
    "plt.show()"
   ]
  },
  {
   "cell_type": "code",
   "execution_count": null,
   "metadata": {},
   "outputs": [],
   "source": [
    "## start the matrix (length of vocabulary x vector size) with all 0s\n",
    "embeddings = np.zeros((len(dic_vocabulary)+1, size))\n",
    "for word,idx in dic_vocabulary.items():\n",
    "    ## update the row with vector\n",
    "    try:\n",
    "        embeddings[idx] =  wv_nlp_model[word]\n",
    "    ## if word not in model then skip and the row stays all 0s\n",
    "    except:\n",
    "        pass"
   ]
  },
  {
   "cell_type": "code",
   "execution_count": null,
   "metadata": {},
   "outputs": [],
   "source": [
    "i = 0\n",
    "\n",
    "## list of text: [\"I like this\", ...]\n",
    "len_txt = len(df[\"wordl\"].iloc[i].split())\n",
    "print(\"from: \", df[\"wordl\"].iloc[i], \"| len:\", len_txt)\n",
    "\n",
    "## sequence of token ids: [[1, 2, 3], ...]\n",
    "len_tokens = len(X_train[i])\n",
    "print(\"to: \", X_train[i], \"| len:\", len(X_train[i]))\n",
    "\n",
    "## vocabulary: {\"I\":1, \"like\":2, \"this\":3, ...}\n",
    "print(\"check: \", df[\"wordl\"].iloc[i].split()[0], \n",
    "      \" -- idx in vocabulary -->\", \n",
    "      dic_vocabulary[df[\"wordl\"].iloc[i].split()[0]])\n",
    "\n",
    "print(\"vocabulary: \", dict(list(dic_vocabulary.items())[0:5]), \"... (padding element, 0)\")"
   ]
  },
  {
   "cell_type": "code",
   "execution_count": null,
   "metadata": {},
   "outputs": [],
   "source": [
    "# plot heatmap for test data\n",
    "sns.heatmap(X_test==0, vmin=0, vmax=1, cbar=False)\n",
    "plt.show()"
   ]
  },
  {
   "cell_type": "code",
   "execution_count": null,
   "metadata": {},
   "outputs": [],
   "source": [
    "word = \"app\"\n",
    "print(\"dic[word]:\", dic_vocabulary[word], \"|idx\")\n",
    "print(\"embeddings[idx]:\", embeddings[dic_vocabulary[word]].shape, \n",
    "      \"|vector\")\n",
    "print(embeddings.shape)\n",
    "print(len(dic_vocabulary))"
   ]
  },
  {
   "cell_type": "code",
   "execution_count": null,
   "metadata": {
    "scrolled": true
   },
   "outputs": [],
   "source": [
    "print('Test label shape:', np.shape(y_test))\n",
    "print('Train label shape:', np.shape(y_train))\n",
    "print('Test shape:', np.shape(X_test))\n",
    "print('Train shape:', np.shape(X_train))"
   ]
  },
  {
   "cell_type": "code",
   "execution_count": null,
   "metadata": {},
   "outputs": [],
   "source": [
    "regularizerA = keras.regularizers.l2(0.01)\n",
    "regularizerB = keras.regularizers.l2(0.001)"
   ]
  },
  {
   "cell_type": "code",
   "execution_count": null,
   "metadata": {},
   "outputs": [],
   "source": [
    "\n",
    "modelw = models.Sequential()\n",
    "\n",
    "## embedding\n",
    "modelw.add(layers.Embedding(vocab_size, 400, input_length=maxlen+1, ))\n",
    "                       \n",
    "modelw.add(layers.BatchNormalization(momentum=0.8))\n",
    "     \n",
    "modelw.add(layers.Dense(200, activation='relu', ))  \n",
    "#modelw.add(layers.BatchNormalization(momentum=0.6))\n",
    "modelw.add(layers.Dense(44, activation='relu',  )) \n",
    "modelw.add(layers.GlobalAveragePooling1D()),\n",
    "modelw.add(layers.Dense(1, activation='sigmoid'))\n",
    "a_opt = optimizers.Adam(lr=1e-5,)\n",
    "\n",
    "## compile\n",
    "modelw.compile(loss='binary_crossentropy',\n",
    "              optimizer=a_opt, metrics=['accuracy'])\n",
    "\n",
    "modelw.summary()"
   ]
  },
  {
   "cell_type": "code",
   "execution_count": null,
   "metadata": {},
   "outputs": [],
   "source": [
    "# early stopping to prevent overfitting\n",
    "es_callback = keras.callbacks.EarlyStopping(monitor='loss', min_delta= 0.001, patience=13)\n",
    "#es_callback = keras.callbacks.EarlyStopping(monitor='loss', patience=10)\n",
    "#fit model\n",
    "training = modelw.fit(X_train, y_train, \n",
    "                     epochs=500,\n",
    "                     batch_size=72,\n",
    "                     callbacks=[es_callback], \n",
    "                     validation_split=0.10,\n",
    "                     shuffle=True\n",
    "                     )"
   ]
  },
  {
   "cell_type": "code",
   "execution_count": null,
   "metadata": {},
   "outputs": [],
   "source": [
    "modelw_dict = training.history\n",
    "modelw_dict.keys()"
   ]
  },
  {
   "cell_type": "code",
   "execution_count": null,
   "metadata": {},
   "outputs": [],
   "source": [
    "plot_history(training)\n",
    "acc_loss_plot(modelw_dict)\n"
   ]
  },
  {
   "cell_type": "code",
   "execution_count": null,
   "metadata": {},
   "outputs": [],
   "source": [
    "## encode y\n",
    "dic_y_mapping = {n:label for n,label in \n",
    "                 enumerate(np.unique(y_train))}\n",
    "inverse_dic = {v:k for k,v in dic_y_mapping.items()}\n",
    "y_train = np.array([inverse_dic[y] for y in y_train])\n",
    "\n",
    "\n",
    "metrics = [k for k in training.history.keys() if (\"loss\" not in k) and (\"val\" not in k)]\n",
    "fig, ax = plt.subplots(nrows=1, ncols=2, sharey=True)\n",
    "ax[0].set(title=\"Training\")\n",
    "ax11 = ax[0].twinx()\n",
    "ax[0].plot(training.history['loss'], color='black')\n",
    "ax[0].set_xlabel('Epochs')\n",
    "ax[0].set_ylabel('Loss', color='black')\n",
    "for metric in metrics:\n",
    "\n",
    "    ax11.plot(training.history[metric], label=metric)\n",
    "ax11.set_ylabel(\"Score\", color='steelblue')\n",
    "ax11.legend()\n",
    "ax[1].set(title=\"Validation\")\n",
    "ax22 = ax[1].twinx()\n",
    "ax[1].plot(training.history['val_loss'], color='black')\n",
    "ax[1].set_xlabel('Epochs')\n",
    "ax[1].set_ylabel('Loss', color='black')\n",
    "for metric in metrics:\n",
    "     ax22.plot(training.history['val_'+metric], label=metric)\n",
    "ax22.set_ylabel(\"Score\", color=\"steelblue\")\n",
    "plt.show()"
   ]
  },
  {
   "cell_type": "code",
   "execution_count": null,
   "metadata": {},
   "outputs": [],
   "source": [
    "results_train = modelw.evaluate(X_train, y_train)\n",
    "print('Training:', results_train)\n",
    "\n",
    "results_test = modelw.evaluate(X_test, y_test)\n",
    "print('Test:', results_test)\n",
    "    "
   ]
  },
  {
   "cell_type": "code",
   "execution_count": null,
   "metadata": {},
   "outputs": [],
   "source": [
    "# predict probabilities for test set\n",
    "yhat_probs = modelw.predict(X_test, verbose=0)\n",
    "# predict crisp classes for test set\n",
    "yhat_classes = modelw.predict_classes(X_test, verbose=0)\n",
    "\n",
    "# reduce to 1d array\n",
    "yhat_probs = yhat_probs[:, 0]\n",
    "yhat_classes = yhat_classes[:, 0]\n",
    "get_metrics(y_test, yhat_classes,yhat_probs)"
   ]
  },
  {
   "cell_type": "code",
   "execution_count": null,
   "metadata": {},
   "outputs": [],
   "source": [
    "vocab = list(wv_nlp_model.wv.vocab)\n",
    "Xwv = wv_nlp_model [wv_nlp_model.wv.vocab]\n",
    "df_wv =pd.DataFrame(Xwv)\n",
    "\n",
    "print(len(df_wv))\n",
    "\n",
    "df_wv.head()"
   ]
  },
  {
   "cell_type": "code",
   "execution_count": null,
   "metadata": {},
   "outputs": [],
   "source": []
  },
  {
   "cell_type": "code",
   "execution_count": null,
   "metadata": {},
   "outputs": [],
   "source": [
    "from sklearn.decomposition import IncrementalPCA    \n",
    "from sklearn.manifold import TSNE                    \n",
    "import plotly\n",
    "\n",
    "\n",
    "def reduce_dimensions(model):\n",
    "    num_dimensions = 2  # final num dimensions (2D, 3D, etc)\n",
    "\n",
    "    vectors = [] # positions in vector space\n",
    "    labels = [] # keep track of words to label our data again later\n",
    "    for word in model.wv.vocab:\n",
    "        vectors.append(model.wv[word])\n",
    "        labels.append(word)\n",
    "\n",
    "    # convert both lists into numpy vectors for reduction\n",
    "    vectors = np.asarray(vectors)\n",
    "    labels = np.asarray(labels)\n",
    "\n",
    "    # reduce using t-SNE\n",
    "    vectors = np.asarray(vectors)\n",
    "    tsne = TSNE(n_components=num_dimensions, random_state=42)\n",
    "    vectors = tsne.fit_transform(vectors)\n",
    "\n",
    "    x_vals = [v[0] for v in vectors]\n",
    "    y_vals = [v[1] for v in vectors]\n",
    "    return x_vals, y_vals, labels\n",
    "\n",
    "def plot_with_plotly(x_vals, y_vals, labels, plot_in_notebook=True, ):\n",
    "    from plotly.offline import init_notebook_mode, iplot, plot\n",
    "    import plotly.graph_objs as go\n",
    "\n",
    "    trace = go.Scatter(x=x_vals, y=y_vals, mode='text', text=labels,)\n",
    "    data = [trace]\n",
    "\n",
    "    if plot_in_notebook:\n",
    "        init_notebook_mode(connected=True)\n",
    "        iplot(data, filename='word-embedding-plot')\n",
    "    else:\n",
    "        plot(data, filename='word-embedding-plot.html')\n"
   ]
  },
  {
   "cell_type": "code",
   "execution_count": null,
   "metadata": {},
   "outputs": [],
   "source": [
    "x_vals, y_vals, labels = reduce_dimensions(wv_nlp_model)\n",
    "plot_with_plotly(x_vals, y_vals, labels)\n"
   ]
  },
  {
   "cell_type": "markdown",
   "metadata": {},
   "source": [
    "# Final Model"
   ]
  },
  {
   "cell_type": "code",
   "execution_count": null,
   "metadata": {},
   "outputs": [],
   "source": [
    "# get class weights for use in model in lieu of smote\n",
    "from sklearn.utils import class_weight\n",
    "class_weights = class_weight.compute_class_weight('balanced', np.unique(y3_train), y3_train)\n",
    "print(class_weights)"
   ]
  },
  {
   "cell_type": "code",
   "execution_count": null,
   "metadata": {},
   "outputs": [],
   "source": [
    "# define parameters for final model\n",
    "initializer = keras.initializers.he_normal(seed=1)\n",
    "regularizer = keras.regularizers.l2(0.01)\n",
    "es_callback = keras.callbacks.EarlyStopping(monitor='loss', min_delta= 0.001, patience=7)\n",
    "# create  sequential model\n",
    "final_model = models.Sequential()\n",
    "# activation layer \n",
    "final_model.add(layers.Dense(300, input_dim=count_terms, activation='relu', \n",
    "                       kernel_initializer=initializer, kernel_regularizer=regularizer, ))\n",
    "final_model.add(layers.BatchNormalization(momentum=0.7))\n",
    "# add relu activated hidden layers\n",
    "final_model.add(layers.Dense(64, activation='relu', kernel_regularizer=regularizer, \n",
    "                       ))   \n",
    "# output layer with sigmoid activation for binary target\n",
    "final_model.add(layers.Dense(1, activation='sigmoid'))\n",
    "\n",
    "# compile\n",
    "final_model.compile(optimizer='Adagrad', loss='binary_crossentropy', metrics=['accuracy'])"
   ]
  },
  {
   "cell_type": "code",
   "execution_count": null,
   "metadata": {},
   "outputs": [],
   "source": [
    "# Train the model \n",
    "final_predictions = final_model.fit(X3_train,\n",
    "                    y3_train,\n",
    "                    epochs=200,\n",
    "                    callbacks=[es_callback],\n",
    "                    batch_size=72,\n",
    "                    class_weight={1:3.1, 0:0.60},\n",
    "                    validation_data=(X3_val, y3_val),\n",
    "                    shuffle=True,\n",
    "                            \n",
    "                    )                 "
   ]
  },
  {
   "cell_type": "code",
   "execution_count": null,
   "metadata": {},
   "outputs": [],
   "source": [
    "final_dict = final_predictions.history\n",
    "results_train = final_model.evaluate(X3_train, y3_train)\n",
    "y_hat_train = final_model.predict(X3_train) \n",
    "results_val = final_model.evaluate(X3_val, y3_val) \n",
    "results_test = final_model.evaluate(X3_test, y3_test)\n",
    "yhat_probs = final_model.predict(X3_test, verbose=0)\n",
    "yhat_classes = final_model.predict_classes(X3_test, verbose=0)\n",
    "# reduce to 1d array\n",
    "yhat_probs = yhat_probs[:, 0]\n",
    "yhat_classes = yhat_classes[:, 0]\n",
    "print('Train results', results_train)\n",
    "print('Validation results', results_val)\n",
    "print('Test results', results_test)"
   ]
  },
  {
   "cell_type": "code",
   "execution_count": null,
   "metadata": {},
   "outputs": [],
   "source": [
    "get_metrics(y3_test, yhat_classes,yhat_probs)"
   ]
  },
  {
   "cell_type": "code",
   "execution_count": null,
   "metadata": {},
   "outputs": [],
   "source": [
    "#save model\n",
    "final_model.save(\"final_model.h5\") \n",
    "print(\"model saved!!!\")"
   ]
  },
  {
   "cell_type": "markdown",
   "metadata": {},
   "source": [
    "# Conclusion"
   ]
  },
  {
   "cell_type": "markdown",
   "metadata": {},
   "source": [
    "models are all overfitting in some capacity. attempted making neural network smaller, applied bias, kernel initializers, l1 and l2 regularizers, batch normalization layers, and dropout layers to minimize loss providing slightly better results but still overfitting occurs to provide accuracy over 80%. this is due to unbalanced and small dataset. this occurs on smote balanced data as well as data ran with weights provided. More data should be obtained to improve results. further assessment planned on retweets and hashtags relativity to sentiment.\n",
    "\n",
    "due to the fact that i got pretty similar accuracy results(80-87 percent) on the best models using various methods, i think the best way to improve this is to get additional data."
   ]
  }
 ],
 "metadata": {
  "kernelspec": {
   "display_name": "Python 3",
   "language": "python",
   "name": "python3"
  },
  "language_info": {
   "codemirror_mode": {
    "name": "ipython",
    "version": 3
   },
   "file_extension": ".py",
   "mimetype": "text/x-python",
   "name": "python",
   "nbconvert_exporter": "python",
   "pygments_lexer": "ipython3",
   "version": "3.7.4"
  },
  "toc": {
   "base_numbering": 1,
   "nav_menu": {},
   "number_sections": true,
   "sideBar": true,
   "skip_h1_title": false,
   "title_cell": "Table of Contents",
   "title_sidebar": "Contents",
   "toc_cell": true,
   "toc_position": {},
   "toc_section_display": true,
   "toc_window_display": false
  }
 },
 "nbformat": 4,
 "nbformat_minor": 2
}
