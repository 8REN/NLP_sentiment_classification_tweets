{
 "cells": [
  {
   "cell_type": "markdown",
   "metadata": {
    "toc": true
   },
   "source": [
    "<h1>Table of Contents<span class=\"tocSkip\"></span></h1>\n",
    "<div class=\"toc\"><ul class=\"toc-item\"><li><span><a href=\"#import-modules\" data-toc-modified-id=\"import-modules-1\"><span class=\"toc-item-num\">1&nbsp;&nbsp;</span>import modules</a></span><ul class=\"toc-item\"><li><span><a href=\"#functions\" data-toc-modified-id=\"functions-1.1\"><span class=\"toc-item-num\">1.1&nbsp;&nbsp;</span>functions</a></span></li></ul></li><li><span><a href=\"#import-data\" data-toc-modified-id=\"import-data-2\"><span class=\"toc-item-num\">2&nbsp;&nbsp;</span>import data</a></span><ul class=\"toc-item\"><li><span><a href=\"#transform-data-from-strings-to-numeric-data\" data-toc-modified-id=\"transform-data-from-strings-to-numeric-data-2.1\"><span class=\"toc-item-num\">2.1&nbsp;&nbsp;</span>transform data from strings to numeric data</a></span></li><li><span><a href=\"#prepare-data-for-model\" data-toc-modified-id=\"prepare-data-for-model-2.2\"><span class=\"toc-item-num\">2.2&nbsp;&nbsp;</span>prepare data for model</a></span></li></ul></li><li><span><a href=\"#Conclusion\" data-toc-modified-id=\"Conclusion-3\"><span class=\"toc-item-num\">3&nbsp;&nbsp;</span>Conclusion</a></span></li></ul></div>"
   ]
  },
  {
   "cell_type": "markdown",
   "metadata": {},
   "source": [
    "# import modules"
   ]
  },
  {
   "cell_type": "code",
   "execution_count": 76,
   "metadata": {},
   "outputs": [],
   "source": [
    "#import modules for Obtain/Scrub/Explore\n",
    "import re\n",
    "import pandas as pd \n",
    "import numpy as np \n",
    "import nltk\n",
    "import string\n",
    "import matplotlib.pyplot as plt \n",
    "import seaborn as sns\n",
    "%matplotlib inline\n",
    "from collections import Counter"
   ]
  },
  {
   "cell_type": "code",
   "execution_count": 77,
   "metadata": {},
   "outputs": [],
   "source": [
    "import warnings \n",
    "warnings.simplefilter(action='ignore', category=FutureWarning)\n",
    "warnings.filterwarnings(\"ignore\", category=DeprecationWarning)"
   ]
  },
  {
   "cell_type": "code",
   "execution_count": 78,
   "metadata": {},
   "outputs": [],
   "source": [
    "# import modules for model\n",
    "import re\n",
    "import pandas as pd \n",
    "import numpy as np \n",
    "import matplotlib.pyplot as plt \n",
    "import seaborn as sns\n",
    "%matplotlib inline\n",
    "import random\n",
    "from sklearn import preprocessing\n",
    "from sklearn.preprocessing import LabelEncoder,  LabelBinarizer\n",
    "from sklearn.neighbors import KNeighborsClassifier\n",
    "from sklearn.model_selection import GridSearchCV\n",
    "from sklearn import metrics\n",
    "from sklearn.metrics import roc_curve, auc\n",
    "from sklearn.metrics import average_precision_score, precision_recall_curve\n",
    "from sklearn.metrics import confusion_matrix\n",
    "from sklearn.metrics import classification_report\n",
    "from sklearn.ensemble import RandomForestClassifier, GradientBoostingClassifier\n",
    "from sklearn.tree import DecisionTreeClassifier\n",
    "from sklearn.naive_bayes import ComplementNB, BernoulliNB, MultinomialNB\n",
    "from sklearn.feature_extraction.text import TfidfVectorizer, CountVectorizer, TfidfTransformer\n",
    "from imblearn.over_sampling import SMOTE\n",
    "from sklearn.pipeline import Pipeline\n",
    "from sklearn.metrics import confusion_matrix\n",
    "from sklearn import metrics\n",
    "from sklearn.metrics import accuracy_score\n",
    "from sklearn.metrics import precision_score\n",
    "from sklearn.metrics import recall_score\n",
    "from sklearn.metrics import f1_score\n",
    "from sklearn.metrics import roc_auc_score\n",
    "from sklearn.metrics import confusion_matrix\n",
    "from sklearn.model_selection import train_test_split\n",
    "from sklearn.model_selection import cross_val_score, KFold\n",
    "import gensim\n"
   ]
  },
  {
   "cell_type": "markdown",
   "metadata": {},
   "source": [
    "## functions"
   ]
  },
  {
   "cell_type": "code",
   "execution_count": 79,
   "metadata": {},
   "outputs": [],
   "source": [
    "def display_results(y_test, y_pred):\n",
    "    labels = np.unique(y_pred)\n",
    "    confusion_mat = confusion_matrix(y_test, y_pred, labels=labels)\n",
    "    accuracy = (y_pred == y_test).mean()\n",
    "\n",
    "    print(\"Labels:\", labels)\n",
    "    print(\"Confusion Matrix:\\n\", confusion_mat)\n",
    "    print(\"Accuracy:\", accuracy)"
   ]
  },
  {
   "cell_type": "code",
   "execution_count": 80,
   "metadata": {},
   "outputs": [],
   "source": [
    "def model_results(x):\n",
    "    results_train = x.evaluate(X_train, y_train)\n",
    "    print('Training:', results_train)\n",
    "    results_test = x.evaluate(X_test, y_test)\n",
    "    print('Test:', results_test)\n",
    "    "
   ]
  },
  {
   "cell_type": "code",
   "execution_count": null,
   "metadata": {},
   "outputs": [],
   "source": []
  },
  {
   "cell_type": "code",
   "execution_count": 81,
   "metadata": {},
   "outputs": [],
   "source": [
    "# x=X_train_scaled, y = y_train_scaled, z = y_test_scaled\n",
    "def cv_score(model, x_train, y_train, y_test, y_pred):\n",
    "    #CV scores, 10 fold CV\n",
    "    scores = cross_val_score(model, x_train, y_train, cv=10)\n",
    "    #Prediction and accuracy\n",
    "    accuracy_test = accuracy_score(y_test, y_pred)\n",
    "    #Print the summary\n",
    "    print(\"Accuracy: %0.2f (+/- %0.2f)\" % (scores.mean(), scores.std() * 2))\n",
    "    print (\"Test Accuracy: %0.2f\" % (accuracy_test))"
   ]
  },
  {
   "cell_type": "code",
   "execution_count": 82,
   "metadata": {},
   "outputs": [],
   "source": [
    "#visualize confusion matrix\n",
    "def vis_cm(model, X, y, y_pred):\n",
    "    score = model.score(X, y)\n",
    "    confusion = confusion_matrix(y, y_pred)\n",
    "    \n",
    "    group_names = ['True Neg','False Pos','False Neg','True Pos']\n",
    "    group_counts = ['{0:0.0f}'.format(value) for value in\n",
    "                    confusion.flatten()]\n",
    "    group_percentages = ['{0:.2%}'.format(value) for value in\n",
    "                     confusion.flatten()/np.sum(confusion)]\n",
    "    labels = [f'{v1}\\n{v2}\\n{v3}' for v1, v2, v3 in\n",
    "          zip(group_names,group_counts,group_percentages)]\n",
    "    labels = np.asarray(labels).reshape(2,2)\n",
    "    sns.heatmap(confusion, annot=labels, fmt='', cmap='Blues')\n",
    "    matrix_title = \"Test Accuracy: %0.2f for {model}\" % (score)\n",
    "    plt.xlabel('Predicted')\n",
    "    plt.ylabel('True')\n",
    "    plt.show()"
   ]
  },
  {
   "cell_type": "code",
   "execution_count": 83,
   "metadata": {},
   "outputs": [],
   "source": [
    "# assess metrics of model\n",
    "def get_metrics(y_test, yhat_classes,yhat_probs):\n",
    "# accuracy: (tp + tn) / (p + n)\n",
    "    accuracy = accuracy_score(y_test, yhat_classes)\n",
    "    print('Accuracy: %f' % accuracy)\n",
    "# precision tp / (tp + fp)\n",
    "    precision = precision_score(y_test, yhat_classes)\n",
    "    print('Precision: %f' % precision)\n",
    "# recall: tp / (tp + fn)\n",
    "    recall = recall_score(y_test, yhat_classes)\n",
    "    print('Recall: %f' % recall)\n",
    "# f1: 2 tp / (2 tp + fp + fn)\n",
    "    f1 = f1_score(y_test, yhat_classes)\n",
    "    print('F1 score: %f' % f1)\n",
    "# ROC AUC\n",
    "    auc = roc_auc_score(y_test, yhat_probs)\n",
    "    print('ROC AUC: %f' % auc)\n",
    "# confusion matrix\n",
    "    matrix = confusion_matrix(y_test, yhat_classes)\n",
    "    print(matrix)"
   ]
  },
  {
   "cell_type": "markdown",
   "metadata": {},
   "source": [
    "# import data"
   ]
  },
  {
   "cell_type": "code",
   "execution_count": 84,
   "metadata": {},
   "outputs": [],
   "source": [
    "df = pd.read_csv('pn_df.csv')"
   ]
  },
  {
   "cell_type": "markdown",
   "metadata": {},
   "source": [
    "## transform data from strings to numeric data"
   ]
  },
  {
   "cell_type": "markdown",
   "metadata": {},
   "source": [
    "## prepare data for model "
   ]
  },
  {
   "cell_type": "code",
   "execution_count": 90,
   "metadata": {},
   "outputs": [],
   "source": [
    "# convert target data with labelencoder\n",
    "le = LabelEncoder()\n",
    "y = df['target'].copy()\n",
    "le.fit_transform(y)\n",
    "# define independent variable\n",
    "X = df.wordl.copy()\n",
    "# split data \n",
    "X_train, X_test, y_train, y_test = train_test_split(X, y, random_state=42,\n",
    "                                                     test_size=.2, stratify=y)\n"
   ]
  },
  {
   "cell_type": "code",
   "execution_count": 91,
   "metadata": {},
   "outputs": [
    {
     "name": "stdout",
     "output_type": "stream",
     "text": [
      "Test label shape: (679,)\n",
      "Train label shape: (2713,)\n",
      "Validation label shape: (272,)\n",
      "Test shape: (679,)\n",
      "Train shape: (2713,)\n",
      "Validation shape: (272, 16802)\n"
     ]
    }
   ],
   "source": [
    "# verify shape of data\n",
    "print('Test label shape:', np.shape(y_test))\n",
    "print('Train label shape:', np.shape(y_train))\n",
    "print('Validation label shape:', np.shape(y_val))\n",
    "print('Test shape:', np.shape(X_test))\n",
    "print('Train shape:', np.shape(X_train))\n",
    "print('Validation shape:', np.shape(X_val))"
   ]
  },
  {
   "cell_type": "code",
   "execution_count": 92,
   "metadata": {},
   "outputs": [],
   "source": [
    "pipeline = Pipeline([ ('vect', CountVectorizer(ngram_range=(1,2))), \n",
    "                     ('tfidf', TfidfTransformer(use_idf=True)), ])\n",
    "X_train = pipeline.fit_transform(X_train).todense() \n",
    "X_test = pipeline.transform(X_test).todense() "
   ]
  },
  {
   "cell_type": "code",
   "execution_count": 93,
   "metadata": {},
   "outputs": [
    {
     "name": "stdout",
     "output_type": "stream",
     "text": [
      "Test label shape: (679,)\n",
      "Train label shape: (2713,)\n",
      "Validation label shape: (272,)\n",
      "Test shape: (679, 18195)\n",
      "Train shape: (2713, 18195)\n",
      "Validation shape: (272, 16802)\n"
     ]
    }
   ],
   "source": [
    "# verify shape of transformed data\n",
    "print('Test label shape:', np.shape(y_test))\n",
    "print('Train label shape:', np.shape(y_train))\n",
    "print('Validation label shape:', np.shape(y_val))\n",
    "print('Test shape:', np.shape(X_test))\n",
    "print('Train shape:', np.shape(X_train))\n",
    "print('Validation shape:', np.shape(X_val))"
   ]
  },
  {
   "cell_type": "code",
   "execution_count": 94,
   "metadata": {},
   "outputs": [
    {
     "name": "stdout",
     "output_type": "stream",
     "text": [
      "Counter({1: 2279, 0: 434})\n"
     ]
    }
   ],
   "source": [
    "counter = Counter(y_train)\n",
    "print(counter)"
   ]
  },
  {
   "cell_type": "code",
   "execution_count": 95,
   "metadata": {},
   "outputs": [
    {
     "name": "stdout",
     "output_type": "stream",
     "text": [
      "Counter({1: 2279, 0: 2279})\n"
     ]
    }
   ],
   "source": [
    "# apply smote to dataset due to imbalance of pos vs neg sentiment\n",
    "sm = SMOTE(random_state=42)\n",
    "X_train, y_train = sm.fit_resample(X_train, y_train)\n",
    "\n",
    "# summarize the new class distribution\n",
    "counter = Counter(y_train)\n",
    "print(counter)"
   ]
  },
  {
   "cell_type": "raw",
   "metadata": {},
   "source": []
  },
  {
   "cell_type": "code",
   "execution_count": 96,
   "metadata": {},
   "outputs": [
    {
     "name": "stdout",
     "output_type": "stream",
     "text": [
      "Test label shape: (679,)\n",
      "Train label shape: (4558,)\n",
      "Test shape: (679, 18195)\n",
      "Train shape: (4558, 18195)\n",
      "Counter({1: 2279, 0: 2279})\n",
      "18195\n"
     ]
    }
   ],
   "source": [
    "# verify new shape of data\n",
    "print('Test label shape:', np.shape(y_test))\n",
    "print('Train label shape:', np.shape(y_train))\n",
    "print('Test shape:', np.shape(X_test))\n",
    "print('Train shape:', np.shape(X_train))\n",
    "\n",
    "counter = Counter(y_train)\n",
    "print(counter)\n",
    "\n",
    "#assign variable to np.shape tuple, width dimension\n",
    "input_dimension = np.shape(X_train)\n",
    "count_terms = input_dimension[1]\n",
    "print(count_terms)"
   ]
  },
  {
   "cell_type": "code",
   "execution_count": 109,
   "metadata": {},
   "outputs": [],
   "source": [
    "from sklearn.neighbors import KNeighborsClassifier\n",
    "from sklearn.model_selection import GridSearchCV, StratifiedKFold\n",
    "from sklearn import metrics\n",
    "from sklearn.metrics import roc_curve, auc, make_scorer\n",
    "from sklearn.metrics import average_precision_score, precision_recall_curve\n",
    "from sklearn.metrics import confusion_matrix\n",
    "from sklearn.metrics import classification_report\n",
    "from sklearn.ensemble import RandomForestClassifier, GradientBoostingClassifier\n",
    "from sklearn.tree import DecisionTreeClassifier\n",
    "from sklearn.naive_bayes import ComplementNB, BernoulliNB, MultinomialNB"
   ]
  },
  {
   "cell_type": "code",
   "execution_count": 110,
   "metadata": {},
   "outputs": [],
   "source": [
    "## perform grid search"
   ]
  },
  {
   "cell_type": "code",
   "execution_count": 134,
   "metadata": {},
   "outputs": [],
   "source": [
    "clf = RandomForestClassifier(n_jobs=-1)\n",
    "\n",
    "param_grid = {\n",
    "    'criterion':['entropy', 'gini'],\n",
    "    'min_samples_split': [3, 5, 10], \n",
    "    'n_estimators' : [100, 200, 300, 500],\n",
    "    'max_depth': [3, 5, 10, 15, 25],\n",
    "    'max_features': [3, 5, 10, 20, 30]\n",
    "}\n",
    "\n",
    "scorers = {\n",
    "    'precision_score': make_scorer(precision_score),\n",
    "    'recall_score': make_scorer(recall_score),\n",
    "    'accuracy_score': make_scorer(accuracy_score)\n",
    "}"
   ]
  },
  {
   "cell_type": "code",
   "execution_count": null,
   "metadata": {},
   "outputs": [],
   "source": [
    "def grid_search_wrapper(refit_score='precision_score'):\n",
    "    \"\"\"\n",
    "    fits a GridSearchCV classifier using refit_score for optimization\n",
    "    prints classifier performance metrics\n",
    "    \"\"\"\n",
    "    skf = StratifiedKFold(n_splits=10)\n",
    "    grid_search = GridSearchCV(clf, param_grid, scoring=scorers, refit=refit_score,\n",
    "                           cv=skf, return_train_score=True, n_jobs=-1)\n",
    "    grid_search.fit(X_train, y_train)\n",
    "\n",
    "    # make the predictions\n",
    "    y_pred = grid_search.predict(X_test)\n",
    "\n",
    "    print('Best params for {}'.format(refit_score))\n",
    "    print(grid_search.best_params_)\n",
    "\n",
    "    # confusion matrix on the test data.\n",
    "    print('\\nConfusion matrix of Random Forest optimized for {} on the test data:'.format(refit_score))\n",
    "    print(pd.DataFrame(confusion_matrix(y_test, y_pred),\n",
    "                 columns=['pred_neg', 'pred_pos'], index=['neg', 'pos']))\n",
    "    vis_cm(model, X_test, y_test, y_pred)\n",
    "    return grid_search"
   ]
  },
  {
   "cell_type": "code",
   "execution_count": null,
   "metadata": {},
   "outputs": [],
   "source": []
  },
  {
   "cell_type": "code",
   "execution_count": null,
   "metadata": {},
   "outputs": [],
   "source": [
    "grid_search_clf = grid_search_wrapper(refit_score='precision_score')"
   ]
  },
  {
   "cell_type": "code",
   "execution_count": 117,
   "metadata": {},
   "outputs": [
    {
     "data": {
      "text/html": [
       "<div>\n",
       "<style scoped>\n",
       "    .dataframe tbody tr th:only-of-type {\n",
       "        vertical-align: middle;\n",
       "    }\n",
       "\n",
       "    .dataframe tbody tr th {\n",
       "        vertical-align: top;\n",
       "    }\n",
       "\n",
       "    .dataframe thead th {\n",
       "        text-align: right;\n",
       "    }\n",
       "</style>\n",
       "<table border=\"1\" class=\"dataframe\">\n",
       "  <thead>\n",
       "    <tr style=\"text-align: right;\">\n",
       "      <th></th>\n",
       "      <th>mean_test_precision_score</th>\n",
       "      <th>mean_test_recall_score</th>\n",
       "      <th>mean_test_accuracy_score</th>\n",
       "      <th>param_max_depth</th>\n",
       "      <th>param_max_features</th>\n",
       "      <th>param_min_samples_split</th>\n",
       "      <th>param_n_estimators</th>\n",
       "    </tr>\n",
       "  </thead>\n",
       "  <tbody>\n",
       "    <tr>\n",
       "      <td>75</td>\n",
       "      <td>0.922</td>\n",
       "      <td>0.994</td>\n",
       "      <td>0.952</td>\n",
       "      <td>25</td>\n",
       "      <td>3</td>\n",
       "      <td>5</td>\n",
       "      <td>300</td>\n",
       "    </tr>\n",
       "    <tr>\n",
       "      <td>77</td>\n",
       "      <td>0.916</td>\n",
       "      <td>0.994</td>\n",
       "      <td>0.947</td>\n",
       "      <td>25</td>\n",
       "      <td>3</td>\n",
       "      <td>10</td>\n",
       "      <td>300</td>\n",
       "    </tr>\n",
       "    <tr>\n",
       "      <td>73</td>\n",
       "      <td>0.914</td>\n",
       "      <td>0.995</td>\n",
       "      <td>0.947</td>\n",
       "      <td>25</td>\n",
       "      <td>3</td>\n",
       "      <td>3</td>\n",
       "      <td>300</td>\n",
       "    </tr>\n",
       "    <tr>\n",
       "      <td>51</td>\n",
       "      <td>0.910</td>\n",
       "      <td>0.994</td>\n",
       "      <td>0.944</td>\n",
       "      <td>15</td>\n",
       "      <td>3</td>\n",
       "      <td>5</td>\n",
       "      <td>300</td>\n",
       "    </tr>\n",
       "    <tr>\n",
       "      <td>49</td>\n",
       "      <td>0.909</td>\n",
       "      <td>0.995</td>\n",
       "      <td>0.944</td>\n",
       "      <td>15</td>\n",
       "      <td>3</td>\n",
       "      <td>3</td>\n",
       "      <td>300</td>\n",
       "    </tr>\n",
       "  </tbody>\n",
       "</table>\n",
       "</div>"
      ],
      "text/plain": [
       "    mean_test_precision_score  mean_test_recall_score  \\\n",
       "75                      0.922                   0.994   \n",
       "77                      0.916                   0.994   \n",
       "73                      0.914                   0.995   \n",
       "51                      0.910                   0.994   \n",
       "49                      0.909                   0.995   \n",
       "\n",
       "    mean_test_accuracy_score param_max_depth param_max_features  \\\n",
       "75                     0.952              25                  3   \n",
       "77                     0.947              25                  3   \n",
       "73                     0.947              25                  3   \n",
       "51                     0.944              15                  3   \n",
       "49                     0.944              15                  3   \n",
       "\n",
       "   param_min_samples_split param_n_estimators  \n",
       "75                       5                300  \n",
       "77                      10                300  \n",
       "73                       3                300  \n",
       "51                       5                300  \n",
       "49                       3                300  "
      ]
     },
     "execution_count": 117,
     "metadata": {},
     "output_type": "execute_result"
    }
   ],
   "source": [
    "results = pd.DataFrame(grid_search_clf.cv_results_)\n",
    "results = results.sort_values(by='mean_test_precision_score', ascending=False)\n",
    "results[['mean_test_precision_score', 'mean_test_recall_score', \n",
    "         'mean_test_accuracy_score', 'param_max_depth', \n",
    "         'param_max_features', 'param_min_samples_split', \n",
    "         'param_n_estimators']].round(3).head()"
   ]
  },
  {
   "cell_type": "code",
   "execution_count": null,
   "metadata": {},
   "outputs": [],
   "source": [
    "y_scores = grid_search_clf.predict_proba(X_test)[:, 1]\n",
    "# for classifiers with decision_function, this achieves similar results\n",
    "# y_scores = classifier.decision_function(X_test)"
   ]
  },
  {
   "cell_type": "code",
   "execution_count": null,
   "metadata": {},
   "outputs": [],
   "source": [
    "p, r, thresholds = precision_recall_curve(y_test, y_scores)"
   ]
  },
  {
   "cell_type": "code",
   "execution_count": 120,
   "metadata": {},
   "outputs": [],
   "source": [
    "def adjusted_classes(y_scores, t):\n",
    "    \"\"\"\n",
    "    This function adjusts class predictions based on the prediction threshold (t).\n",
    "    Will only work for binary classification problems.\n",
    "    \"\"\"\n",
    "    return [1 if y >= t else 0 for y in y_scores]\n",
    "\n",
    "def precision_recall_threshold(p, r, thresholds, t=0.5):\n",
    "    \"\"\"\n",
    "    plots the precision recall curve and shows the current value for each\n",
    "    by identifying the classifier's threshold (t).\n",
    "    \"\"\"\n",
    "    \n",
    "    # generate new class predictions based on the adjusted_classes\n",
    "    # function above and view the resulting confusion matrix.\n",
    "    y_pred_adj = adjusted_classes(y_scores, t)\n",
    "    print(pd.DataFrame(confusion_matrix(y_test, y_pred_adj),\n",
    "                       columns=['pred_neg', 'pred_pos'], \n",
    "                       index=['neg', 'pos']))\n",
    "    \n",
    "    # plot the curve\n",
    "    plt.figure(figsize=(8,8))\n",
    "    plt.title(\"Precision and Recall curve ^ = current threshold\")\n",
    "    plt.step(r, p, color='b', alpha=0.2,\n",
    "             where='post')\n",
    "    plt.fill_between(r, p, step='post', alpha=0.2,\n",
    "                     color='b')\n",
    "    plt.ylim([0.5, 1.01]);\n",
    "    plt.xlim([0.5, 1.01]);\n",
    "    plt.xlabel('Recall');\n",
    "    plt.ylabel('Precision');\n",
    "    \n",
    "    # plot the current threshold on the line\n",
    "    close_default_clf = np.argmin(np.abs(thresholds - t))\n",
    "    plt.plot(r[close_default_clf], p[close_default_clf], '^', c='k',\n",
    "            markersize=15)"
   ]
  },
  {
   "cell_type": "code",
   "execution_count": null,
   "metadata": {},
   "outputs": [],
   "source": [
    "precision_recall_threshold(p, r, thresholds, 0.516)"
   ]
  },
  {
   "cell_type": "markdown",
   "metadata": {},
   "source": [
    "# Instantiate random forest on balanced smote data\n",
    "rf = RandomForestClassifier(n_jobs=-1)\n",
    "\n",
    "# Fit the model to training data\n",
    "rf_model = rf.fit(X3_train, y3_train)\n",
    "\n",
    "# Predict on test set\n",
    "y_pred_rf = rf_model.predict(X3_test)\n",
    "print(rf_model.score(X3_train, y3_train))\n",
    "print(rf_model.score(X3_test, y3_test))\n",
    "print(classification_report(y3_test, y_pred_rf))"
   ]
  },
  {
   "cell_type": "code",
   "execution_count": 162,
   "metadata": {},
   "outputs": [
    {
     "name": "stdout",
     "output_type": "stream",
     "text": [
      "Accuracy: 0.87 (+/- 0.02)\n",
      "Test Accuracy: 0.87\n"
     ]
    }
   ],
   "source": [
    " #cv scores\n",
    "cv_score(rf_model, X3_train, y3_train, y3_test, y_pred_rf)"
   ]
  },
  {
   "cell_type": "code",
   "execution_count": 163,
   "metadata": {},
   "outputs": [
    {
     "data": {
      "text/plain": [
       "array([[ 24,  85],\n",
       "       [  3, 567]])"
      ]
     },
     "execution_count": 163,
     "metadata": {},
     "output_type": "execute_result"
    }
   ],
   "source": [
    "confusion_matrix(y_test, y_pred_rf)"
   ]
  },
  {
   "cell_type": "code",
   "execution_count": 164,
   "metadata": {},
   "outputs": [
    {
     "name": "stdout",
     "output_type": "stream",
     "text": [
      "Train AUC: 0.9999024865919064\n",
      "Test AUC: 0.8038065346853371\n"
     ]
    },
    {
     "data": {
      "image/png": "[encoded data removed]",
      "text/plain": [
       "<Figure size 720x576 with 1 Axes>"
      ]
     },
     "metadata": {
      "needs_background": "light"
     },
     "output_type": "display_data"
    }
   ],
   "source": [
    "test_probs = rf_model.predict_proba(X3_test)\n",
    "preds  = test_probs[:,1]\n",
    "train_probs = rf_model.predict_proba(X3_train)\n",
    "y_train_score  = train_probs[:,1]\n",
    "\n",
    "\n",
    "train_fpr, train_tpr, train_thresholds = roc_curve(y3_train, y_train_score)\n",
    "test_fpr, test_tpr, test_thresholds = roc_curve(y3_test, preds)\n",
    "\n",
    "dt_fpr, dt_tpr, dt_th = roc_curve(y3_test, preds)\n",
    "\n",
    "print('Train AUC: {}'.format(auc(train_fpr, train_tpr)))\n",
    "print('Test AUC: {}'.format(auc(test_fpr, test_tpr)))\n",
    "\n",
    "plt.figure(figsize=(10, 8))\n",
    "lw = 2\n",
    "\n",
    "plt.plot(train_fpr, train_tpr, color='blue',\n",
    "         lw=lw, label='Train ROC curve')\n",
    "plt.plot(test_fpr, test_tpr, color='darkorange',\n",
    "         lw=lw, label='Test ROC curve')\n",
    "\n",
    "plt.plot([0, 1], [0, 1], color='navy', lw=lw, linestyle='--')\n",
    "plt.xlim([0.0, 1.0])\n",
    "plt.ylim([0.0, 1.05])\n",
    "plt.yticks([i/20.0 for i in range(21)])\n",
    "plt.xticks([i/20.0 for i in range(21)])\n",
    "plt.xlabel('False Positive Rate')\n",
    "plt.ylabel('True Positive Rate')\n",
    "plt.title('Receiver operating characteristic (ROC) Curve')\n",
    "plt.legend(loc='lower right')\n",
    "plt.show()\n"
   ]
  },
  {
   "cell_type": "code",
   "execution_count": 165,
   "metadata": {},
   "outputs": [],
   "source": [
    "# did not perform well on negative data either"
   ]
  },
  {
   "cell_type": "code",
   "execution_count": null,
   "metadata": {},
   "outputs": [],
   "source": [
    "\n",
    "clf = KNeighborsClassifie(n_jobs=-1)\n",
    "\n",
    "param_grid = {\n",
    "    'leaf_size' :[list(range(1,50))],\n",
    "    'n_neighbors' : [list(range(1,30))],\n",
    "    'p':[1,2]\n",
    "   \n",
    "}\n",
    "\n",
    "scorers = {\n",
    "    'precision_score': make_scorer(precision_score),\n",
    "    'recall_score': make_scorer(recall_score),\n",
    "    'accuracy_score': make_scorer(accuracy_score)\n",
    "}"
   ]
  },
  {
   "cell_type": "code",
   "execution_count": null,
   "metadata": {},
   "outputs": [],
   "source": [
    "results = pd.DataFrame(grid_search_clf.cv_results_)\n",
    "results = results.sort_values(by='mean_test_precision_score', ascending=False)\n",
    "results[['mean_test_precision_score', 'mean_test_recall_score', \n",
    "         'mean_test_accuracy_score', 'param_max_depth', \n",
    "         'param_max_features', 'param_min_samples_split', \n",
    "         'param_n_estimators']].round(3).head()"
   ]
  },
  {
   "cell_type": "code",
   "execution_count": null,
   "metadata": {},
   "outputs": [],
   "source": [
    "grid_search_clf = grid_search_wrapper(refit_score='precision_score')"
   ]
  },
  {
   "cell_type": "markdown",
   "metadata": {},
   "source": [
    "knn_clf = KNeighborsClassifier(algorithm='ball_tree', weights='distance')\n",
    "# Fit the model to training data\n",
    "knn_model = knn_clf.fit(X3_train, y3_train)\n",
    "# Predict on test set\n",
    "y_pred_knn = knn_model.predict(X3_test)\n",
    "print(knn_model.score(X3_train, y3_train))\n",
    "print(knn_model.score(X3_test, y3_test))\n",
    "print(classification_report(y3_test, y_pred_knn))\n",
    "# confusion matrix\n",
    "confusion_matrix(y3_test, y_pred_knn)"
   ]
  },
  {
   "cell_type": "code",
   "execution_count": 167,
   "metadata": {},
   "outputs": [
    {
     "name": "stdout",
     "output_type": "stream",
     "text": [
      "Accuracy: 0.87 (+/- 0.03)\n",
      "Test Accuracy: 0.86\n"
     ]
    }
   ],
   "source": [
    "# cv scores\n",
    "cv_score(knn_model, X3_train, y3_train, y3_test, y_pred_knn)"
   ]
  },
  {
   "cell_type": "code",
   "execution_count": 168,
   "metadata": {},
   "outputs": [
    {
     "name": "stdout",
     "output_type": "stream",
     "text": [
      "Train AUC: 0.9999774969058246\n",
      "Test AUC: 0.7070416867857718\n"
     ]
    },
    {
     "data": {
      "image/png": "[encoded data removed]",
      "text/plain": [
       "<Figure size 720x576 with 1 Axes>"
      ]
     },
     "metadata": {
      "needs_background": "light"
     },
     "output_type": "display_data"
    }
   ],
   "source": [
    "test_probs = knn_model.predict_proba(X3_test)\n",
    "preds  = test_probs[:,1]\n",
    "train_probs = knn_model.predict_proba(X3_train)\n",
    "y_train_score  = train_probs[:,1]\n",
    "\n",
    "\n",
    "train_fpr, train_tpr, train_thresholds = roc_curve(y3_train, y_train_score)\n",
    "test_fpr, test_tpr, test_thresholds = roc_curve(y3_test, preds)\n",
    "\n",
    "dt_fpr, dt_tpr, dt_th = roc_curve(y3_test, preds)\n",
    "\n",
    "print('Train AUC: {}'.format(auc(train_fpr, train_tpr)))\n",
    "print('Test AUC: {}'.format(auc(test_fpr, test_tpr)))\n",
    "\n",
    "plt.figure(figsize=(10, 8))\n",
    "lw = 2\n",
    "\n",
    "plt.plot(train_fpr, train_tpr, color='blue',\n",
    "         lw=lw, label='Train ROC curve')\n",
    "plt.plot(test_fpr, test_tpr, color='darkorange',\n",
    "         lw=lw, label='Test ROC curve')\n",
    "\n",
    "plt.plot([0, 1], [0, 1], color='navy', lw=lw, linestyle='--')\n",
    "plt.xlim([0.0, 1.0])\n",
    "plt.ylim([0.0, 1.05])\n",
    "plt.yticks([i/20.0 for i in range(21)])\n",
    "plt.xticks([i/20.0 for i in range(21)])\n",
    "plt.xlabel('False Positive Rate')\n",
    "plt.ylabel('True Positive Rate')\n",
    "plt.title('Receiver operating characteristic (ROC) Curve')\n",
    "plt.legend(loc='lower right')\n",
    "plt.show()\n"
   ]
  },
  {
   "cell_type": "markdown",
   "metadata": {},
   "source": [
    "none of the statistical methods performed well on data, due to lack of data. this was tried on smote dataset as well, with similar results"
   ]
  },
  {
   "cell_type": "markdown",
   "metadata": {},
   "source": [
    "# no smote applied data analysis "
   ]
  },
  {
   "cell_type": "code",
   "execution_count": null,
   "metadata": {},
   "outputs": [],
   "source": [
    "# split data \n",
    "X_train, X_test, y_train, y_test = train_test_split(X, y, random_state=42,\n",
    "                                                     test_size=.2, stratify=y)\n",
    "X_train, X_val, y_train, y_val  = train_test_split(X_train, y_train,\n",
    "                                                    test_size=0.1, \n",
    "                                                    random_state=42,\n",
    "                                                    stratify=y_train)\n",
    "# build TFIDF features on tweet with tfidf vectorizer\n",
    "pipeline = Pipeline([ ('vect', CountVectorizer(ngram_range=(1,2))), \n",
    "                     ('tfidf', TfidfTransformer(use_idf=True)), ])\n",
    "X_train = pipeline.fit_transform(X_train).todense() \n",
    "X_test = pipeline.transform(X_test).todense() \n",
    "X_val = pipeline.transform(X_val).todense()\n"
   ]
  },
  {
   "cell_type": "code",
   "execution_count": null,
   "metadata": {},
   "outputs": [],
   "source": [
    "# verify new shape of data\n",
    "print('Test label shape:', np.shape(y_test))\n",
    "print('Train label shape:', np.shape(y_train))\n",
    "print('Test shape:', np.shape(X_test))\n",
    "print('Train shape:', np.shape(X_train))\n",
    "\n",
    "counter = Counter(y_train)\n",
    "print(counter)\n",
    "\n",
    "#assign variable to np.shape tuple, width dimension\n",
    "input_dimension = np.shape(X_train)\n",
    "count_terms = input_dimension[1]\n",
    "print(count_terms)"
   ]
  },
  {
   "cell_type": "code",
   "execution_count": null,
   "metadata": {},
   "outputs": [],
   "source": [
    "# assess class distribution for prior / weights\n",
    "counter = Counter(y3_train)\n",
    "print(counter)\n",
    "print(len(y3_train))\n",
    "prob1= 2279/3392\n",
    "prob0=434/3392\n",
    "print (prob1)\n",
    "print (prob0)"
   ]
  },
  {
   "cell_type": "code",
   "execution_count": null,
   "metadata": {},
   "outputs": [],
   "source": [
    "# show the distribution\n",
    "print('y_train class distribution')\n",
    "print(y_train.value_counts(normalize=True))\n",
    "print('y_test class distribution')\n",
    "print(y_test.value_counts(normalize=True))"
   ]
  },
  {
   "cell_type": "code",
   "execution_count": 151,
   "metadata": {},
   "outputs": [
    {
     "name": "stdout",
     "output_type": "stream",
     "text": [
      "0.869315854158132\n",
      "0.845360824742268\n",
      "              precision    recall  f1-score   support\n",
      "\n",
      "           0       0.83      0.05      0.09       109\n",
      "           1       0.85      1.00      0.92       570\n",
      "\n",
      "    accuracy                           0.85       679\n",
      "   macro avg       0.84      0.52      0.50       679\n",
      "weighted avg       0.84      0.85      0.78       679\n",
      "\n"
     ]
    }
   ],
   "source": [
    "# Instantiate multinomial bayes\n",
    "mnb = MultinomialNB(alpha=1.0, fit_prior=True)\n",
    "\n",
    "# Fit the model to training data\n",
    "mnb_model = mnb.fit(X3_train, y3_train)\n",
    "\n",
    "# Predict on test set\n",
    "y_pred_mnb = mnb_model.predict(X3_test)\n",
    "print(mnb_model.score(X3_train, y3_train))\n",
    "print(mnb_model.score(X3_test, y3_test))\n",
    "print(classification_report(y_test, y_pred_mnb))"
   ]
  },
  {
   "cell_type": "code",
   "execution_count": null,
   "metadata": {},
   "outputs": [],
   "source": [
    "decisions = (model.predict_proba() >= mythreshold).astype(int)\n",
    "y_pred_new_threshold = (logreg.predict_proba(X_test)[:,1]>=0.6).astype(int)"
   ]
  },
  {
   "cell_type": "code",
   "execution_count": 152,
   "metadata": {},
   "outputs": [],
   "source": [
    "#did not perform well on negative sentiment data(also smaller class)"
   ]
  },
  {
   "cell_type": "code",
   "execution_count": 153,
   "metadata": {},
   "outputs": [
    {
     "name": "stdout",
     "output_type": "stream",
     "text": [
      "Accuracy: 0.85 (+/- 0.01)\n",
      "Test Accuracy: 0.85\n"
     ]
    }
   ],
   "source": [
    "# get accuracy scores for training data vs test data\n",
    "cv_score(mnb_model, X3_train, y3_train, y3_test, y_pred_mnb)"
   ]
  },
  {
   "cell_type": "code",
   "execution_count": 154,
   "metadata": {},
   "outputs": [
    {
     "data": {
      "text/plain": [
       "array([[  5, 104],\n",
       "       [  1, 569]])"
      ]
     },
     "execution_count": 154,
     "metadata": {},
     "output_type": "execute_result"
    }
   ],
   "source": [
    "confusion_matrix(y3_test, y_pred_mnb)"
   ]
  },
  {
   "cell_type": "code",
   "execution_count": 155,
   "metadata": {},
   "outputs": [
    {
     "name": "stdout",
     "output_type": "stream",
     "text": [
      "Train AUC: 0.9738589055995199\n",
      "Test AUC: 0.7656365684854338\n"
     ]
    },
    {
     "data": {
      "image/png": "[encoded data removed]",
      "text/plain": [
       "<Figure size 720x576 with 1 Axes>"
      ]
     },
     "metadata": {
      "needs_background": "light"
     },
     "output_type": "display_data"
    }
   ],
   "source": [
    "\n",
    "#plot roc/auc\n",
    "test_probs = mnb_model.predict_proba(X3_test)\n",
    "preds  = test_probs[:,1]\n",
    "train_probs = mnb_model.predict_proba(X3_train)\n",
    "y_train_score  = train_probs[:,1]\n",
    "\n",
    "\n",
    "train_fpr, train_tpr, train_thresholds = roc_curve(y3_train, y_train_score)\n",
    "test_fpr, test_tpr, test_thresholds = roc_curve(y3_test, preds)\n",
    "\n",
    "dt_fpr, dt_tpr, dt_th = roc_curve(y3_test, preds)\n",
    "\n",
    "print('Train AUC: {}'.format(auc(train_fpr, train_tpr)))\n",
    "print('Test AUC: {}'.format(auc(test_fpr, test_tpr)))\n",
    "\n",
    "plt.figure(figsize=(10, 8))\n",
    "lw = 2\n",
    "\n",
    "plt.plot(train_fpr, train_tpr, color='blue',\n",
    "         lw=lw, label='Train ROC curve')\n",
    "plt.plot(test_fpr, test_tpr, color='darkorange',\n",
    "         lw=lw, label='Test ROC curve')\n",
    "\n",
    "plt.plot([0, 1], [0, 1], color='navy', lw=lw, linestyle='--')\n",
    "plt.xlim([0.0, 1.0])\n",
    "plt.ylim([0.0, 1.05])\n",
    "plt.yticks([i/20.0 for i in range(21)])\n",
    "plt.xticks([i/20.0 for i in range(21)])\n",
    "plt.xlabel('False Positive Rate')\n",
    "plt.ylabel('True Positive Rate')\n",
    "plt.title('Receiver operating characteristic (ROC) Curve')\n",
    "plt.legend(loc='lower right')\n",
    "plt.show()\n"
   ]
  },
  {
   "cell_type": "code",
   "execution_count": 156,
   "metadata": {},
   "outputs": [
    {
     "name": "stdout",
     "output_type": "stream",
     "text": [
      "0.8811962310528472\n",
      "0.845360824742268\n",
      "              precision    recall  f1-score   support\n",
      "\n",
      "           0       0.83      0.05      0.09       109\n",
      "           1       0.85      1.00      0.92       570\n",
      "\n",
      "    accuracy                           0.85       679\n",
      "   macro avg       0.84      0.52      0.50       679\n",
      "weighted avg       0.84      0.85      0.78       679\n",
      "\n"
     ]
    }
   ],
   "source": [
    "# Instantiate bernoulli naive bayes on og data\n",
    "bnb = BernoulliNB(alpha=1.0, fit_prior=True)\n",
    "\n",
    "# Fit the model to training data\n",
    "bnb_model = bnb.fit(X3_train, y3_train)\n",
    "\n",
    "# Predict on test set\n",
    "y_pred_bnb = bnb_model.predict(X3_test)\n",
    "print(bnb_model.score(X3_train, y3_train))\n",
    "print(bnb_model.score(X3_test, y3_test))\n",
    "print(classification_report(y_test, y_pred_bnb))"
   ]
  },
  {
   "cell_type": "code",
   "execution_count": 157,
   "metadata": {},
   "outputs": [
    {
     "name": "stdout",
     "output_type": "stream",
     "text": [
      "Accuracy: 0.84 (+/- 0.01)\n",
      "Test Accuracy: 0.85\n"
     ]
    }
   ],
   "source": [
    "# cv scores\n",
    "cv_score(bnb_model, X3_train, y3_train, y3_test, y_pred_bnb)"
   ]
  },
  {
   "cell_type": "code",
   "execution_count": 158,
   "metadata": {},
   "outputs": [
    {
     "data": {
      "text/plain": [
       "array([[  5, 104],\n",
       "       [  1, 569]])"
      ]
     },
     "execution_count": 158,
     "metadata": {},
     "output_type": "execute_result"
    }
   ],
   "source": [
    "confusion_matrix(y3_test, y_pred_bnb)"
   ]
  },
  {
   "cell_type": "code",
   "execution_count": 159,
   "metadata": {},
   "outputs": [
    {
     "name": "stdout",
     "output_type": "stream",
     "text": [
      "Train AUC: 0.9608502419082623\n",
      "Test AUC: 0.684588765491711\n"
     ]
    },
    {
     "data": {
      "image/png": "[encoded data removed]",
      "text/plain": [
       "<Figure size 720x576 with 1 Axes>"
      ]
     },
     "metadata": {
      "needs_background": "light"
     },
     "output_type": "display_data"
    }
   ],
   "source": [
    "test_probs = bnb_model.predict_proba(X3_test)\n",
    "preds  = test_probs[:,1]\n",
    "train_probs = bnb_model.predict_proba(X3_train)\n",
    "y_train_score  = train_probs[:,1]\n",
    "\n",
    "\n",
    "train_fpr, train_tpr, train_thresholds = roc_curve(y3_train, y_train_score)\n",
    "test_fpr, test_tpr, test_thresholds = roc_curve(y3_test, preds)\n",
    "\n",
    "dt_fpr, dt_tpr, dt_th = roc_curve(y3_test, preds)\n",
    "\n",
    "print('Train AUC: {}'.format(auc(train_fpr, train_tpr)))\n",
    "print('Test AUC: {}'.format(auc(test_fpr, test_tpr)))\n",
    "\n",
    "plt.figure(figsize=(10, 8))\n",
    "lw = 2\n",
    "\n",
    "plt.plot(train_fpr, train_tpr, color='blue',\n",
    "         lw=lw, label='Train ROC curve')\n",
    "plt.plot(test_fpr, test_tpr, color='darkorange',\n",
    "         lw=lw, label='Test ROC curve')\n",
    "\n",
    "plt.plot([0, 1], [0, 1], color='navy', lw=lw, linestyle='--')\n",
    "plt.xlim([0.0, 1.0])\n",
    "plt.ylim([0.0, 1.05])\n",
    "plt.yticks([i/20.0 for i in range(21)])\n",
    "plt.xticks([i/20.0 for i in range(21)])\n",
    "plt.xlabel('False Positive Rate')\n",
    "plt.ylabel('True Positive Rate')\n",
    "plt.title('Receiver operating characteristic (ROC) Curve')\n",
    "plt.legend(loc='lower right')\n",
    "plt.show()\n"
   ]
  },
  {
   "cell_type": "code",
   "execution_count": 160,
   "metadata": {},
   "outputs": [],
   "source": [
    "#neither of the bayes classifiers performed well on the negative sentiment data"
   ]
  },
  {
   "cell_type": "code",
   "execution_count": null,
   "metadata": {},
   "outputs": [],
   "source": []
  },
  {
   "cell_type": "code",
   "execution_count": null,
   "metadata": {},
   "outputs": [],
   "source": []
  },
  {
   "cell_type": "markdown",
   "metadata": {},
   "source": [
    "# Conclusion"
   ]
  },
  {
   "cell_type": "markdown",
   "metadata": {},
   "source": [
    "models are all overfitting in some capacity. attempted making neural network smaller, applied bias, kernel initializers, l1 and l2 regularizers, batch normalization layers, and dropout layers to minimize loss providing slightly better results but still overfitting occurs to provide accuracy over 80%. this is due to unbalanced and small dataset. this occurs on smote balanced data as well as data ran with weights provided. More data should be obtained to improve results. further assessment planned on retweets and hashtags relativity to sentiment.\n",
    "\n",
    "due to the fact that i got pretty similar accuracy results(80-87 percent) on the best models using various methods, i think the best way to improve this is to get additional data."
   ]
  },
  {
   "cell_type": "code",
   "execution_count": null,
   "metadata": {},
   "outputs": [],
   "source": []
  },
  {
   "cell_type": "code",
   "execution_count": null,
   "metadata": {},
   "outputs": [],
   "source": []
  },
  {
   "cell_type": "code",
   "execution_count": null,
   "metadata": {},
   "outputs": [],
   "source": []
  }
 ],
 "metadata": {
  "kernelspec": {
   "display_name": "Python 3",
   "language": "python",
   "name": "python3"
  },
  "language_info": {
   "codemirror_mode": {
    "name": "ipython",
    "version": 3
   },
   "file_extension": ".py",
   "mimetype": "text/x-python",
   "name": "python",
   "nbconvert_exporter": "python",
   "pygments_lexer": "ipython3",
   "version": "3.7.4"
  },
  "toc": {
   "base_numbering": 1,
   "nav_menu": {},
   "number_sections": true,
   "sideBar": true,
   "skip_h1_title": false,
   "title_cell": "Table of Contents",
   "title_sidebar": "Contents",
   "toc_cell": true,
   "toc_position": {},
   "toc_section_display": true,
   "toc_window_display": false
  }
 },
 "nbformat": 4,
 "nbformat_minor": 2
}
